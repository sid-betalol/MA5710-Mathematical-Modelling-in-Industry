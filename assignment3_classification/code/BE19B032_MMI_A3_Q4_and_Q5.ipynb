{
  "nbformat": 4,
  "nbformat_minor": 0,
  "metadata": {
    "colab": {
      "name": "BE19B032_MMI_A3_Q4_and_Q5.ipynb",
      "provenance": [],
      "collapsed_sections": []
    },
    "kernelspec": {
      "name": "python3",
      "display_name": "Python 3"
    },
    "language_info": {
      "name": "python"
    }
  },
  "cells": [
    {
      "cell_type": "markdown",
      "metadata": {
        "id": "pyR-eKwJKF_5"
      },
      "source": [
        "#Q4\n",
        "We first create the Classification tree using the data given to solve the fourth question."
      ]
    },
    {
      "cell_type": "markdown",
      "metadata": {
        "id": "od1ogiw_KIgb"
      },
      "source": [
        "## Importing the required libraries"
      ]
    },
    {
      "cell_type": "code",
      "metadata": {
        "id": "Ne29w5rPJkYy"
      },
      "source": [
        "import numpy as np\n",
        "import pandas as pd\n",
        "import matplotlib.pyplot as plt\n",
        "import random \n",
        "import sklearn\n",
        "from sklearn.preprocessing import LabelEncoder\n",
        "from sklearn.model_selection import train_test_split\n",
        "from sklearn.tree import DecisionTreeClassifier\n",
        "from sklearn.metrics import classification_report\n",
        "from sklearn.tree import plot_tree"
      ],
      "execution_count": 1,
      "outputs": []
    },
    {
      "cell_type": "markdown",
      "metadata": {
        "id": "JrXvvhNQKrV7"
      },
      "source": [
        "## Inputting the training data"
      ]
    },
    {
      "cell_type": "code",
      "metadata": {
        "id": "ZmGY0IV7KYQL"
      },
      "source": [
        "# input data\n",
        "age=np.array([23,17,43,68,32,20])\n",
        "car_type=np.array([\"family\",\"sports\",\"sports\",\"family\",\"truck\",\"family\"])\n",
        "risk=np.array([\"High\",\"High\",\"High\",\"Low\",\"Low\",\"High\"])\n",
        "\n",
        "# defining the attributes and converting categorical variables\n",
        "# into dummy/ indicator variables\n",
        "attributes=[age,car_type,risk]\n",
        "df=pd.DataFrame(attributes).transpose()\n",
        "df.columns=[\"Age\",\"Car_type\",\"Risk\"]\n",
        "df = pd.get_dummies(df, columns = ['Car_type'])\n",
        "\n",
        "the_dummy=df.copy()\n",
        "the_dummy.drop(\"Risk\",axis=1,inplace=True)\n",
        "X=the_dummy\n",
        "y=risk"
      ],
      "execution_count": 2,
      "outputs": []
    },
    {
      "cell_type": "markdown",
      "metadata": {
        "id": "VxyTNJq2L2j9"
      },
      "source": [
        "## Creating the tree"
      ]
    },
    {
      "cell_type": "code",
      "metadata": {
        "colab": {
          "base_uri": "https://localhost:8080/",
          "height": 265
        },
        "id": "mI3Ad5r3Kwft",
        "outputId": "19e24e34-1ab1-4d5e-c625-4dd15119a625"
      },
      "source": [
        "dtree=DecisionTreeClassifier()\n",
        "dtree.fit(X,y)\n",
        "print(\"Decision Tree Classifier Created\")\n",
        "dec_tree = plot_tree(decision_tree=dtree, feature_names = X.columns, \n",
        "                     class_names =[\"High\", \"Low\"] , filled = True , precision = 4, rounded = True)"
      ],
      "execution_count": 3,
      "outputs": [
        {
          "output_type": "stream",
          "name": "stdout",
          "text": [
            "Decision Tree Classifier Created\n"
          ]
        },
        {
          "output_type": "display_data",
          "data": {
            "image/png": "[encoded data removed]",
            "text/plain": [
              "<Figure size 432x288 with 1 Axes>"
            ]
          },
          "metadata": {
            "needs_background": "light"
          }
        }
      ]
    },
    {
      "cell_type": "markdown",
      "metadata": {
        "id": "ABfH7tAzMfsV"
      },
      "source": [
        "# Q5\n",
        "We test the above classification tree on random data (using 150 samples, since nothing has been mentioned in question) and return if the the driver is at risk or not."
      ]
    },
    {
      "cell_type": "code",
      "metadata": {
        "colab": {
          "base_uri": "https://localhost:8080/",
          "height": 204
        },
        "id": "SEn-FiJtL6VX",
        "outputId": "e939a81c-1c90-4010-8a22-87542fd0ffde"
      },
      "source": [
        "# randomly generating 150 samples\n",
        "age=np.random.randint(17,70,size=150)\n",
        "car_type=np.random.choice([\"family\", \"sports\", \"truck\"], size=150)\n",
        "\n",
        "# testing the model on the randomly generated data\n",
        "attributes=[age,car_type]\n",
        "df2=pd.DataFrame(attributes).transpose()\n",
        "df2.columns=[\"Age\",\"Car_type\"]\n",
        "df2= pd.get_dummies(df2, columns = ['Car_type'])\n",
        "df2.head()\n",
        "y_pred=dtree.predict(df2)\n",
        "final_answer=df2.copy()\n",
        "final_answer[\"Risk\"]=y_pred\n",
        "# showing the risk for the first five drivers out of the total randomly \n",
        "# generated testing data set\n",
        "final_answer.head()\n"
      ],
      "execution_count": 4,
      "outputs": [
        {
          "output_type": "execute_result",
          "data": {
            "text/html": [
              "<div>\n",
              "<style scoped>\n",
              "    .dataframe tbody tr th:only-of-type {\n",
              "        vertical-align: middle;\n",
              "    }\n",
              "\n",
              "    .dataframe tbody tr th {\n",
              "        vertical-align: top;\n",
              "    }\n",
              "\n",
              "    .dataframe thead th {\n",
              "        text-align: right;\n",
              "    }\n",
              "</style>\n",
              "<table border=\"1\" class=\"dataframe\">\n",
              "  <thead>\n",
              "    <tr style=\"text-align: right;\">\n",
              "      <th></th>\n",
              "      <th>Age</th>\n",
              "      <th>Car_type_family</th>\n",
              "      <th>Car_type_sports</th>\n",
              "      <th>Car_type_truck</th>\n",
              "      <th>Risk</th>\n",
              "    </tr>\n",
              "  </thead>\n",
              "  <tbody>\n",
              "    <tr>\n",
              "      <th>0</th>\n",
              "      <td>43</td>\n",
              "      <td>1</td>\n",
              "      <td>0</td>\n",
              "      <td>0</td>\n",
              "      <td>Low</td>\n",
              "    </tr>\n",
              "    <tr>\n",
              "      <th>1</th>\n",
              "      <td>46</td>\n",
              "      <td>1</td>\n",
              "      <td>0</td>\n",
              "      <td>0</td>\n",
              "      <td>Low</td>\n",
              "    </tr>\n",
              "    <tr>\n",
              "      <th>2</th>\n",
              "      <td>25</td>\n",
              "      <td>1</td>\n",
              "      <td>0</td>\n",
              "      <td>0</td>\n",
              "      <td>High</td>\n",
              "    </tr>\n",
              "    <tr>\n",
              "      <th>3</th>\n",
              "      <td>68</td>\n",
              "      <td>0</td>\n",
              "      <td>0</td>\n",
              "      <td>1</td>\n",
              "      <td>Low</td>\n",
              "    </tr>\n",
              "    <tr>\n",
              "      <th>4</th>\n",
              "      <td>68</td>\n",
              "      <td>0</td>\n",
              "      <td>0</td>\n",
              "      <td>1</td>\n",
              "      <td>Low</td>\n",
              "    </tr>\n",
              "  </tbody>\n",
              "</table>\n",
              "</div>"
            ],
            "text/plain": [
              "  Age  Car_type_family  Car_type_sports  Car_type_truck  Risk\n",
              "0  43                1                0               0   Low\n",
              "1  46                1                0               0   Low\n",
              "2  25                1                0               0  High\n",
              "3  68                0                0               1   Low\n",
              "4  68                0                0               1   Low"
            ]
          },
          "metadata": {},
          "execution_count": 4
        }
      ]
    },
    {
      "cell_type": "markdown",
      "metadata": {
        "id": "F5hamp9lN5kI"
      },
      "source": [
        "The table above shows the risk for a driver based on the randomly generated values for each of the attributes."
      ]
    }
  ]
}