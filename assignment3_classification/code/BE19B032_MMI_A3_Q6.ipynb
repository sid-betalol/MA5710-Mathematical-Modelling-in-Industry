{
  "nbformat": 4,
  "nbformat_minor": 0,
  "metadata": {
    "colab": {
      "name": "BE19B032_MMI_A3_Q6.ipynb",
      "provenance": [],
      "collapsed_sections": []
    },
    "kernelspec": {
      "name": "python3",
      "display_name": "Python 3"
    },
    "language_info": {
      "name": "python"
    }
  },
  "cells": [
    {
      "cell_type": "markdown",
      "metadata": {
        "id": "_aU91-GWZmH4"
      },
      "source": [
        "# Importing the required libraries"
      ]
    },
    {
      "cell_type": "code",
      "metadata": {
        "id": "JmUaTys3PHiC"
      },
      "source": [
        "import numpy as np\n",
        "import pandas as pd\n",
        "import matplotlib.pyplot as plt\n",
        "import random \n",
        "import sklearn\n",
        "from sklearn.preprocessing import LabelEncoder\n",
        "from sklearn.model_selection import train_test_split\n",
        "from sklearn.tree import DecisionTreeClassifier\n",
        "from sklearn.metrics import classification_report\n",
        "from sklearn.tree import plot_tree"
      ],
      "execution_count": 1,
      "outputs": []
    },
    {
      "cell_type": "markdown",
      "metadata": {
        "id": "Kw5dVQ1YZsOT"
      },
      "source": [
        "#Setting up the attributes and the dataset"
      ]
    },
    {
      "cell_type": "code",
      "metadata": {
        "colab": {
          "base_uri": "https://localhost:8080/",
          "height": 306
        },
        "id": "sdlaHExsQAbE",
        "outputId": "0d696ad0-0808-41f1-935e-c4a90dca1af9"
      },
      "source": [
        "#An approximate sensible range of age (for people with hypertension)\n",
        "age=np.random.randint(10,121,size=100) \n",
        "#An approximate sensible range of weight\n",
        "weight=np.random.randint(20,201,size=100) \n",
        "sleep=np.random.randint(0,24,size=100)\n",
        "#The lowest and highest income in dollars per hour \n",
        "# as taken from the internet.\n",
        "income=np.random.randint(7,4500,size=100) \n",
        "drink=np.random.randint(1,6,size=100) \n",
        "gender=np.random.choice([\"M\",\"F\"],size=100,replace=True)\n",
        "sports=np.random.choice([1,2,3,4,5,9], size=100)\n",
        "salt=np.random.choice([1,2,3,4,5,9],size=100)\n",
        "hypertension=np.random.choice([\"L\",\"H\",\"N\"],size=100, replace=True)\n",
        "\n",
        "\n",
        "attributes_class=[age,weight,sleep,income,drink,gender,sports,salt,hypertension]\n",
        "\n",
        "df=pd.DataFrame(attributes_class).transpose()\n",
        "df.columns=[\"Age\",\"Weight(Kgs)\",\"Sleep (hours)\",\"Income ($ per hour)\",\"Drink\",\"Gender\",\"Sports\",\"Salt\",\"Hypertension\"]\n",
        "\n",
        "df=pd.get_dummies(df,columns=[\"Gender\"])\n",
        "\n",
        "the_dummy=df.copy()\n",
        "the_dummy.drop(\"Hypertension\",axis=1, inplace=True)\n",
        "X=the_dummy\n",
        "y=hypertension\n",
        "print(y)\n",
        "the_dummy.head()"
      ],
      "execution_count": 2,
      "outputs": [
        {
          "output_type": "stream",
          "name": "stdout",
          "text": [
            "['H' 'H' 'H' 'H' 'N' 'N' 'L' 'N' 'N' 'L' 'N' 'N' 'H' 'N' 'N' 'H' 'L' 'N'\n",
            " 'H' 'L' 'H' 'N' 'L' 'N' 'N' 'N' 'L' 'L' 'N' 'N' 'L' 'H' 'N' 'N' 'H' 'H'\n",
            " 'N' 'L' 'H' 'N' 'N' 'H' 'N' 'N' 'H' 'N' 'N' 'H' 'H' 'N' 'N' 'L' 'H' 'N'\n",
            " 'H' 'H' 'L' 'H' 'N' 'N' 'H' 'L' 'H' 'N' 'H' 'H' 'N' 'L' 'N' 'L' 'L' 'L'\n",
            " 'L' 'L' 'H' 'L' 'L' 'N' 'L' 'N' 'N' 'L' 'N' 'L' 'H' 'H' 'N' 'H' 'H' 'N'\n",
            " 'H' 'L' 'H' 'H' 'N' 'N' 'H' 'H' 'N' 'N']\n"
          ]
        },
        {
          "output_type": "execute_result",
          "data": {
            "text/html": [
              "<div>\n",
              "<style scoped>\n",
              "    .dataframe tbody tr th:only-of-type {\n",
              "        vertical-align: middle;\n",
              "    }\n",
              "\n",
              "    .dataframe tbody tr th {\n",
              "        vertical-align: top;\n",
              "    }\n",
              "\n",
              "    .dataframe thead th {\n",
              "        text-align: right;\n",
              "    }\n",
              "</style>\n",
              "<table border=\"1\" class=\"dataframe\">\n",
              "  <thead>\n",
              "    <tr style=\"text-align: right;\">\n",
              "      <th></th>\n",
              "      <th>Age</th>\n",
              "      <th>Weight(Kgs)</th>\n",
              "      <th>Sleep (hours)</th>\n",
              "      <th>Income ($ per hour)</th>\n",
              "      <th>Drink</th>\n",
              "      <th>Sports</th>\n",
              "      <th>Salt</th>\n",
              "      <th>Gender_F</th>\n",
              "      <th>Gender_M</th>\n",
              "    </tr>\n",
              "  </thead>\n",
              "  <tbody>\n",
              "    <tr>\n",
              "      <th>0</th>\n",
              "      <td>15</td>\n",
              "      <td>109</td>\n",
              "      <td>8</td>\n",
              "      <td>1278</td>\n",
              "      <td>1</td>\n",
              "      <td>4</td>\n",
              "      <td>1</td>\n",
              "      <td>0</td>\n",
              "      <td>1</td>\n",
              "    </tr>\n",
              "    <tr>\n",
              "      <th>1</th>\n",
              "      <td>19</td>\n",
              "      <td>162</td>\n",
              "      <td>13</td>\n",
              "      <td>1421</td>\n",
              "      <td>1</td>\n",
              "      <td>1</td>\n",
              "      <td>3</td>\n",
              "      <td>1</td>\n",
              "      <td>0</td>\n",
              "    </tr>\n",
              "    <tr>\n",
              "      <th>2</th>\n",
              "      <td>103</td>\n",
              "      <td>47</td>\n",
              "      <td>3</td>\n",
              "      <td>2388</td>\n",
              "      <td>1</td>\n",
              "      <td>5</td>\n",
              "      <td>3</td>\n",
              "      <td>0</td>\n",
              "      <td>1</td>\n",
              "    </tr>\n",
              "    <tr>\n",
              "      <th>3</th>\n",
              "      <td>93</td>\n",
              "      <td>177</td>\n",
              "      <td>22</td>\n",
              "      <td>4074</td>\n",
              "      <td>2</td>\n",
              "      <td>5</td>\n",
              "      <td>2</td>\n",
              "      <td>1</td>\n",
              "      <td>0</td>\n",
              "    </tr>\n",
              "    <tr>\n",
              "      <th>4</th>\n",
              "      <td>69</td>\n",
              "      <td>106</td>\n",
              "      <td>10</td>\n",
              "      <td>998</td>\n",
              "      <td>3</td>\n",
              "      <td>9</td>\n",
              "      <td>4</td>\n",
              "      <td>0</td>\n",
              "      <td>1</td>\n",
              "    </tr>\n",
              "  </tbody>\n",
              "</table>\n",
              "</div>"
            ],
            "text/plain": [
              "   Age Weight(Kgs) Sleep (hours)  ... Salt Gender_F Gender_M\n",
              "0   15         109             8  ...    1        0        1\n",
              "1   19         162            13  ...    3        1        0\n",
              "2  103          47             3  ...    3        0        1\n",
              "3   93         177            22  ...    2        1        0\n",
              "4   69         106            10  ...    4        0        1\n",
              "\n",
              "[5 rows x 9 columns]"
            ]
          },
          "metadata": {},
          "execution_count": 2
        }
      ]
    },
    {
      "cell_type": "markdown",
      "metadata": {
        "id": "R2gpafM3Zz3C"
      },
      "source": [
        "# Splitting the randomly generated dataset into training and testing data"
      ]
    },
    {
      "cell_type": "code",
      "metadata": {
        "colab": {
          "base_uri": "https://localhost:8080/"
        },
        "id": "2R9VvaI_RaIG",
        "outputId": "bb5c11ff-3f95-41a6-8712-043e54f97311"
      },
      "source": [
        "X_train,X_test,y_train,y_test=train_test_split(X,y,test_size=0.3, random_state=45)\n",
        "print(\"Training Split input- \", X_train.shape)\n",
        "print(\"Testing Split input- \", X_test.shape)"
      ],
      "execution_count": 3,
      "outputs": [
        {
          "output_type": "stream",
          "name": "stdout",
          "text": [
            "Training Split input-  (70, 9)\n",
            "Testing Split input-  (30, 9)\n"
          ]
        }
      ]
    },
    {
      "cell_type": "markdown",
      "metadata": {
        "id": "xL6o4dxSZ66K"
      },
      "source": [
        "# Calculating the error and accuracy scores "
      ]
    },
    {
      "cell_type": "code",
      "metadata": {
        "colab": {
          "base_uri": "https://localhost:8080/"
        },
        "id": "hpm1drMBRvGd",
        "outputId": "51fe9b65-1d1a-42a0-d423-d4b60fc6ec38"
      },
      "source": [
        "#tests the classification tree and calculates the accuracy and \n",
        "# the error percentages.\n",
        "\n",
        "dtree=DecisionTreeClassifier()\n",
        "dtree.fit(X_train,y_train)\n",
        "print(\"Decision Tree Classifier Created\")\n",
        "y_pred=dtree.predict(X_test)\n",
        "print(y_pred)\n",
        "report=classification_report(y_test,y_pred,output_dict=True)\n",
        "accuracy_score=(report[\"accuracy\"])*100\n",
        "error=(1-report[\"accuracy\"])*100\n",
        "print(f\"The accuracy percentage is: {accuracy_score}%\")\n",
        "print(f\"The error percentage is: {error}% \")"
      ],
      "execution_count": 4,
      "outputs": [
        {
          "output_type": "stream",
          "name": "stdout",
          "text": [
            "Decision Tree Classifier Created\n",
            "['H' 'L' 'H' 'N' 'N' 'H' 'N' 'H' 'N' 'N' 'H' 'N' 'N' 'N' 'H' 'N' 'H' 'L'\n",
            " 'H' 'N' 'L' 'N' 'N' 'N' 'N' 'N' 'N' 'H' 'H' 'N']\n",
            "The accuracy percentage is: 30.0%\n",
            "The error percentage is: 70.0% \n"
          ]
        }
      ]
    },
    {
      "cell_type": "markdown",
      "metadata": {
        "id": "6XxIDt2eaJ_r"
      },
      "source": [
        "#Showing the tree"
      ]
    },
    {
      "cell_type": "code",
      "metadata": {
        "colab": {
          "base_uri": "https://localhost:8080/",
          "height": 248
        },
        "id": "TCXve71BRpRr",
        "outputId": "a5876e5a-1ca5-4d0c-bc47-21123185e3d2"
      },
      "source": [
        "dec_tree = plot_tree(decision_tree=dtree, feature_names = X.columns, \n",
        "                     class_names =[\"L\",\"H\",\"N\"] , filled = True , precision = 4, rounded = True)\n",
        "# please zoom in to see/ download the picture"
      ],
      "execution_count": 5,
      "outputs": [
        {
          "output_type": "display_data",
          "data": {
            "image/png": "[encoded data removed]",
            "text/plain": [
              "<Figure size 432x288 with 1 Axes>"
            ]
          },
          "metadata": {
            "needs_background": "light"
          }
        }
      ]
    },
    {
      "cell_type": "markdown",
      "metadata": {
        "id": "SJYBBJiXSrgt"
      },
      "source": [
        "**We can see that pruning won't work as most of the nodes here have two divisions and more than one leaf. This would mean that most of the leaf nodes would have very few samples from the training set, which might indicate overfitting of data.\n",
        "However, more concrete proof is shown in the next cell.**"
      ]
    },
    {
      "cell_type": "markdown",
      "metadata": {
        "id": "xTQq3tSUaa-j"
      },
      "source": [
        "#PLot to show that pruning isn't effective for this scenario"
      ]
    },
    {
      "cell_type": "code",
      "metadata": {
        "colab": {
          "base_uri": "https://localhost:8080/",
          "height": 295
        },
        "id": "wCt-tys8R4NB",
        "outputId": "fd7da27f-5494-49f8-9e16-6a637f993f5f"
      },
      "source": [
        "#The code below checks if pruning the data will help get better results. \n",
        "#This is done by using the complexity pruning path module in python. \n",
        "#We set different ccp_alpha values in the Treeclassifier and \n",
        "#check the accuracy of the classifier in each case.\n",
        "\n",
        "clf = DecisionTreeClassifier(random_state=0)\n",
        "path = clf.cost_complexity_pruning_path(X_train, y_train)\n",
        "ccp_alphas, impurities = path.ccp_alphas, path.impurities\n",
        "clfs = []\n",
        "for ccp_alpha in ccp_alphas:\n",
        "    clf = DecisionTreeClassifier(random_state=0, ccp_alpha=ccp_alpha)\n",
        "    clf.fit(X_train, y_train)\n",
        "    clfs.append(clf)\n",
        "train_scores = [clf.score(X_train, y_train) for clf in clfs]\n",
        "test_scores = [clf.score(X_test, y_test) for clf in clfs]\n",
        "\n",
        "fig, ax = plt.subplots()\n",
        "ax.set_xlabel(\"alpha\")\n",
        "ax.set_ylabel(\"accuracy\")\n",
        "ax.set_title(\"Accuracy vs alpha for training and testing sets\")\n",
        "ax.plot(ccp_alphas, train_scores, marker=\"o\", label=\"train\", drawstyle=\"steps-post\")\n",
        "ax.plot(ccp_alphas, test_scores, marker=\"o\", label=\"test\", drawstyle=\"steps-post\")\n",
        "ax.legend()\n",
        "plt.show()"
      ],
      "execution_count": 6,
      "outputs": [
        {
          "output_type": "display_data",
          "data": {
            "image/png": "[encoded data removed]",
            "text/plain": [
              "<Figure size 432x288 with 1 Axes>"
            ]
          },
          "metadata": {
            "needs_background": "light"
          }
        }
      ]
    },
    {
      "cell_type": "markdown",
      "metadata": {
        "id": "C3zfLosoWpCC"
      },
      "source": [
        "#**The final answer**:\n",
        "\n",
        "\n",
        "*   For most of the datasets, the accuracy score is below 50%. For the randomly generated dataset, at the **time of submission**, the error percentage was 70% and accuracy was 30%.\n",
        "*   The low accuracy might be due to overfitting of data.\n",
        "*   The plot above shows that the accuracy value doesn't improve through pruning. For higher CCP values more nodes are pruned, however there's no significant change in the accuracy as CCP value changes, as it can be seen from the graph.  \n",
        "* Most of the nodes here have two divisions and more than one leaf. Hence, pruning even a large number of branches might not improve the accuracy as shown by the plot.\n",
        "*   However, there are certain pre-pruning methods that might help in imporving the accuracy. These include fixing the minimum number of samples in a node and fixing the maximum depth of the tree.\n",
        "\n",
        "\n",
        "\n",
        "\n",
        "\n",
        "\n",
        "\n"
      ]
    },
    {
      "cell_type": "markdown",
      "metadata": {
        "id": "7qHeDBZPbRTM"
      },
      "source": [
        "#References:\n",
        "\n",
        "\n",
        "1.   Professor Sundar's Class Notes\n",
        "2.   [Decision Tree Pruning explained | Sebastian Mantey](https://youtu.be/u4kbPtiVVB8)\n",
        "3.   [Post pruning decision trees](https://scikit-learn.org/stable/auto_examples/tree/plot_cost_complexity_pruning.html)   \n",
        "\n"
      ]
    }
  ]
}