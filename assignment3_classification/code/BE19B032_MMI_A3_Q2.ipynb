{
  "nbformat": 4,
  "nbformat_minor": 0,
  "metadata": {
    "colab": {
      "name": "BE19B032_MMI_A3_Q2.ipynb",
      "provenance": [],
      "collapsed_sections": []
    },
    "kernelspec": {
      "name": "python3",
      "display_name": "Python 3"
    },
    "language_info": {
      "name": "python"
    }
  },
  "cells": [
    {
      "cell_type": "markdown",
      "metadata": {
        "id": "v0EKyOiu4fLK"
      },
      "source": [
        "# Intializing the data given in the question\n"
      ]
    },
    {
      "cell_type": "code",
      "metadata": {
        "id": "uyXQEXO5rbTi"
      },
      "source": [
        "#Inputing the given data\n",
        "header=[\"Age\",\"Salary\",\"Class\"]\n",
        "training_data=[ [30,65,\"G\"],\n",
        "                [23,15,\"B\"],\n",
        "                [40,75,\"G\"],\n",
        "                [55,40,\"B\"],\n",
        "                [55,100,\"G\"],\n",
        "                [45,60,\"G\"],\n",
        "                ]"
      ],
      "execution_count": 1,
      "outputs": []
    },
    {
      "cell_type": "markdown",
      "metadata": {
        "id": "8FkJC0cJ470c"
      },
      "source": [
        "# Defining basic functions"
      ]
    },
    {
      "cell_type": "code",
      "metadata": {
        "id": "ieGV3-dVshlh"
      },
      "source": [
        "#functions to calculate unique values for a column in a given dataset\n",
        "def unique_vals(rows,col):\n",
        "    return set([row[col] for row in rows])"
      ],
      "execution_count": 2,
      "outputs": []
    },
    {
      "cell_type": "code",
      "metadata": {
        "id": "YF5hh31rsjlg"
      },
      "source": [
        "# a dictionary with the classes in a dataframe and the number of each class.\n",
        "def class_counts(rows): #returns a dictionary with the class and the count for that class\n",
        "    counts={} #empty dictionary with count for every class\n",
        "    for row in rows:\n",
        "        label=row[-1]\n",
        "        if label not in counts:\n",
        "            counts[label]=0\n",
        "        counts[label]+=1\n",
        "    return counts"
      ],
      "execution_count": 3,
      "outputs": []
    },
    {
      "cell_type": "markdown",
      "metadata": {
        "id": "8u5ajnSZ5CQ3"
      },
      "source": [
        "# Asking meaningful questions for partitioning the dataset"
      ]
    },
    {
      "cell_type": "code",
      "metadata": {
        "id": "pfkAA26dtMia"
      },
      "source": [
        "#A class to create ask a meaningful question for a given attribute. This question is used to partition the dataset\n",
        "#It takes the index of the column in the dataframe and also the value which needs to be checked for.\n",
        "#In this model, since the input test data is not huge, I have not pre=sorted the array as the subsequent code is effective irrespective of whether it is sorted or not.\n",
        "#Therefore, I have also not taken the average of the value v[i],v[i+1] with the minimum gini index at value v[i]. I have taken value v[i] for simplicity of the code.\n",
        "class Question:\n",
        "    #initialising the variables\n",
        "    def __init__(self,col_index,value):\n",
        "        self.col_index=col_index\n",
        "        self.value=value\n",
        "\n",
        "    #'match' method is used to compare the feature value in an example \n",
        "    # to the feature value stored in the question.\n",
        "    def match(self,example):\n",
        "        val=example[self.col_index]\n",
        "        return val<=self.value\n",
        "    \n",
        "    # This is just a helper method to print\n",
        "    # the question in a readable format.\n",
        "    def __repr__(self):\n",
        "        a=header[self.col_index]\n",
        "        b=str(self.value)\n",
        "        return f\"Is {a} <= {b}?\"\n",
        "\n",
        "#Question(1,3)\n",
        "#q=Question(0,35)\n",
        "#example=training_data[0]\n",
        "#q.match(example)"
      ],
      "execution_count": 4,
      "outputs": []
    },
    {
      "cell_type": "markdown",
      "metadata": {
        "id": "X2vRrQF_5KwW"
      },
      "source": [
        "# Partitioning the rows into true and false branches"
      ]
    },
    {
      "cell_type": "code",
      "metadata": {
        "id": "JQrnF2c4wF_K"
      },
      "source": [
        "#Partitions the rows into true and false/ left and right rows, with the question given to the function.\n",
        "def partition(rows,question):\n",
        "    true_rows,false_rows=[],[]\n",
        "    for example in rows:\n",
        "        if question.match(example):\n",
        "            true_rows.append(example)\n",
        "        else:\n",
        "            false_rows.append(example)\n",
        "    return true_rows,false_rows\n",
        "#true_rows, false_rows = partition(training_data, Question(0, 35))\n",
        "#true_rows"
      ],
      "execution_count": 5,
      "outputs": []
    },
    {
      "cell_type": "markdown",
      "metadata": {
        "id": "VEZekjwn5fHR"
      },
      "source": [
        "# Calculating the Gini impurity and information gain"
      ]
    },
    {
      "cell_type": "code",
      "metadata": {
        "id": "CdaH6OS6wlW_"
      },
      "source": [
        "#Calculates the gini impurity/gini index of the input dataframe/ list of rows.\n",
        "def gini_index(rows):\n",
        "    counts=class_counts(rows)\n",
        "    impurity=1\n",
        "    for label in counts:\n",
        "        prob_label=counts[label]/len(rows)\n",
        "        impurity-=(prob_label)**2\n",
        "    return impurity\n",
        "\n",
        "#calculates the info gain/ cumulative gini index/impurity.\n",
        "def info_gain(left,right,current_uncertainty):\n",
        "    len1=len(left)\n",
        "    len2=len(right)\n",
        "    p=float(len1/(len1+len2))\n",
        "    return current_uncertainty-(p*(gini_index(left))+(1-p)*(gini_index(right)))"
      ],
      "execution_count": 6,
      "outputs": []
    },
    {
      "cell_type": "markdown",
      "metadata": {
        "id": "RdGqZWwz5oHA"
      },
      "source": [
        "# Finding the best split"
      ]
    },
    {
      "cell_type": "code",
      "metadata": {
        "id": "rMC3RHEbwYDU"
      },
      "source": [
        "#function to find the best split from the given dataframe by iterating over \n",
        "# each feature/ value and calculating the cumulative gini impurity.\n",
        "def find_best_split(rows):\n",
        "    best_gain=0 # keep track of the best information gain\n",
        "    best_question=None # keep track of the feature / value that produced it\n",
        "    current_uncertainty=gini_index(rows)\n",
        "    n_features=len(rows[0])-1 #no of columns\n",
        "\n",
        "    # running the iterations over all the features\n",
        "    for col in range(n_features): # for each feature\n",
        "        values=set([row[col] for row in rows]) # unique values in the column\n",
        "\n",
        "        for val in values: # for each value\n",
        "            question=Question(col,val)\n",
        "            true_rows,false_rows=partition(rows,question) # try splitting the dataset\n",
        "            if len(true_rows)==0 or len(false_rows)==0: # Skip this split if it doesn't divide the dataset.\n",
        "                continue\n",
        "            gain=info_gain(true_rows,false_rows,current_uncertainty) # Calculate the information gain from this split\n",
        "            # updating the values if the comparison condition is satisfied\n",
        "            if gain>=best_gain:\n",
        "                best_gain,best_question=gain,question\n",
        "    return best_gain,best_question"
      ],
      "execution_count": 7,
      "outputs": []
    },
    {
      "cell_type": "markdown",
      "metadata": {
        "id": "hvbAUG3d5sid"
      },
      "source": [
        "# Identifying a leaf node and a decision node"
      ]
    },
    {
      "cell_type": "code",
      "metadata": {
        "id": "EfpnhWyVwb0P"
      },
      "source": [
        "# A Leaf node classifies data.\n",
        "# References to the number of times a class appears in the rows \n",
        "# from the training data that reach this leaf.\n",
        "class Leaf:\n",
        "    def __init__(self,rows):\n",
        "        self.predictions=class_counts(rows)\n",
        "# A Decision Node asks a question to find out the split.\n",
        "# references to the question, and to the two child nodes.\n",
        "class Decision_Node:\n",
        "    def __init__(self,question,true_branch,false_branch):\n",
        "        self.question=question\n",
        "        self.true_branch=true_branch\n",
        "        self.false_branch=false_branch"
      ],
      "execution_count": 8,
      "outputs": []
    },
    {
      "cell_type": "markdown",
      "metadata": {
        "id": "L0zAFOcq5yfL"
      },
      "source": [
        "# Building the tree"
      ]
    },
    {
      "cell_type": "code",
      "metadata": {
        "id": "rnlwDFCn1og2"
      },
      "source": [
        "#the main function where the tree is built. It is a recursive function that returns the Decision Node \n",
        "# if gain is not equal to zero and a leaf if the gain is zero.\n",
        "def build_tree(rows):\n",
        "    if len(rows)==len(training_data):\n",
        "        # intializing the root partition as given in the question\n",
        "        question=Question(0,35)\n",
        "        true_rows,false_rows=partition(rows,question)\n",
        "        uncertainty=gini_index(rows)\n",
        "        gain=info_gain(true_rows,false_rows,uncertainty)\n",
        "    else:\n",
        "        # else find the best split for the subsequent nodes\n",
        "        gain, question = find_best_split(rows)\n",
        "        \n",
        "        # Base case: no further info gain\n",
        "        # Since we can ask no further questions (since we have no more partitions to make),\n",
        "        # we'll return a leaf.\n",
        "        if gain==0:\n",
        "            return Leaf(rows)\n",
        "        \n",
        "        # If we reach here, we have found a useful feature / value\n",
        "        # to partition on.\n",
        "        true_rows, false_rows=partition(rows,question)\n",
        "    \n",
        "    # build the true branch.    \n",
        "    true_branch=build_tree(true_rows)\n",
        "    # build the false branch.\n",
        "    false_branch=build_tree(false_rows)\n",
        "\n",
        "    # Return a Question node.\n",
        "    # This records the best feature / value to ask at this point,\n",
        "    # as well as the branches to follow\n",
        "    # depending on the answer.\n",
        "    return Decision_Node(question,true_branch,false_branch)"
      ],
      "execution_count": 9,
      "outputs": []
    },
    {
      "cell_type": "markdown",
      "metadata": {
        "id": "ELfJqtz051Mq"
      },
      "source": [
        "# Printing the tree"
      ]
    },
    {
      "cell_type": "code",
      "metadata": {
        "id": "4RDIuMfU4O0M"
      },
      "source": [
        "#funtcion used to print the tree.\n",
        "def print_tree(node, spacing=\"\"):\n",
        "\n",
        "    # Base case: we've reached a leaf\n",
        "    if isinstance(node, Leaf):\n",
        "        print (spacing + \"Predict\", node.predictions)\n",
        "        return\n",
        "\n",
        "    # Print the question at this node\n",
        "    print (spacing + str(node.question))\n",
        "\n",
        "    # Call this function on the true branch\n",
        "    print (spacing + '--> True:')\n",
        "    print_tree(node.true_branch, spacing + \"  \")\n",
        "\n",
        "    # Call this function on the false branch\n",
        "    print (spacing + '--> False:')\n",
        "    print_tree(node.false_branch, spacing + \"  \")"
      ],
      "execution_count": 10,
      "outputs": []
    },
    {
      "cell_type": "markdown",
      "metadata": {
        "id": "YYN2MH4I56hD"
      },
      "source": [
        "# Output"
      ]
    },
    {
      "cell_type": "code",
      "metadata": {
        "colab": {
          "base_uri": "https://localhost:8080/"
        },
        "id": "lBtR-deD4VY3",
        "outputId": "8e34bbba-09ad-4819-dd01-d99f9836a340"
      },
      "source": [
        "#Inputing the training data and printing out the results\n",
        "my_tree=build_tree(training_data)\n",
        "print_tree(my_tree)"
      ],
      "execution_count": 11,
      "outputs": [
        {
          "output_type": "stream",
          "name": "stdout",
          "text": [
            "Is Age <= 35?\n",
            "--> True:\n",
            "  Is Salary <= 15?\n",
            "  --> True:\n",
            "    Predict {'B': 1}\n",
            "  --> False:\n",
            "    Predict {'G': 1}\n",
            "--> False:\n",
            "  Is Salary <= 40?\n",
            "  --> True:\n",
            "    Predict {'B': 1}\n",
            "  --> False:\n",
            "    Predict {'G': 3}\n"
          ]
        }
      ]
    },
    {
      "cell_type": "markdown",
      "metadata": {
        "id": "HrztIsSP6fGd"
      },
      "source": [
        "# References\n",
        "\n",
        "\n",
        "1.   Professor Sundar's Class Notes\n",
        "2.   SLIQ Model Paper | IBM\n",
        "3.   [Decision and Classification Trees | StatQuest with Josh Starmer](https://youtu.be/_L39rN6gz7Y)\n",
        "4.   [Let’s Write a Decision Tree Classifier from Scratch - Machine Learning Recipes | Google Developers](https://youtu.be/LDRbO9a6XPU)\n",
        "\n",
        "\n"
      ]
    }
  ]
}