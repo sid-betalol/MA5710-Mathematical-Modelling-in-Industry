{
  "nbformat": 4,
  "nbformat_minor": 0,
  "metadata": {
    "colab": {
      "name": "BE19B032_Assignment4.ipynb",
      "provenance": []
    },
    "kernelspec": {
      "name": "python3",
      "display_name": "Python 3"
    },
    "language_info": {
      "name": "python"
    }
  },
  "cells": [
    {
      "cell_type": "markdown",
      "metadata": {
        "id": "_IgnLoDUI3mf"
      },
      "source": [
        "## Importing the required libraries"
      ]
    },
    {
      "cell_type": "code",
      "metadata": {
        "id": "OZDgycfCG5Bp"
      },
      "source": [
        "import numpy as np\n",
        "import matplotlib as plt\n",
        "import pandas as pd\n",
        "import random\n",
        "import sklearn\n",
        "import math\n",
        "from sklearn.linear_model import LinearRegression\n",
        "from scipy.stats import multivariate_normal"
      ],
      "execution_count": 1,
      "outputs": []
    },
    {
      "cell_type": "markdown",
      "metadata": {
        "id": "66kbjVlsI8r9"
      },
      "source": [
        "#Getting the data ready"
      ]
    },
    {
      "cell_type": "code",
      "metadata": {
        "colab": {
          "base_uri": "https://localhost:8080/",
          "height": 204
        },
        "id": "2G9Rf89MHAoe",
        "outputId": "0a612b1d-f7f9-467f-dcf4-eef8030053ad"
      },
      "source": [
        "#Creating a dataframe using the data provided in the table and adding noise to \n",
        "# the Salary column, with the noise being Normal distribution\n",
        "\n",
        "header=[\"Gender_ID\",\"Degree\",\"Age\",\"Salary\"]\n",
        "\n",
        "#The noise array with five elements, is be added to the \"Salary\" column.\n",
        "noise=np.random.normal(0,1,5) \n",
        "\n",
        "#Data as given in table 8.2 of the book\n",
        "training_data=[\n",
        "    [-1,-1,+1,-1,+1],\n",
        "    [2,3,1,1,2],\n",
        "    [36,47,26,68,33],\n",
        "    [89.563,123.543,23.989,138.769,113.888]\n",
        "]\n",
        "\n",
        "df=pd.DataFrame(training_data).transpose()\n",
        "df.columns=header\n",
        "\n",
        "#Adding noise to the data.\n",
        "df[\"Salary\"]=[df[\"Salary\"][i]+noise[i] for i in range(len(df))]\n",
        "df.head()\n",
        "#Switching the data type of each column to integer, except the salary colum\n",
        "data_types={\"Gender_ID\":int,\"Degree\":int,\"Age\":int}\n",
        "df.astype(data_types)"
      ],
      "execution_count": 2,
      "outputs": [
        {
          "output_type": "execute_result",
          "data": {
            "text/html": [
              "<div>\n",
              "<style scoped>\n",
              "    .dataframe tbody tr th:only-of-type {\n",
              "        vertical-align: middle;\n",
              "    }\n",
              "\n",
              "    .dataframe tbody tr th {\n",
              "        vertical-align: top;\n",
              "    }\n",
              "\n",
              "    .dataframe thead th {\n",
              "        text-align: right;\n",
              "    }\n",
              "</style>\n",
              "<table border=\"1\" class=\"dataframe\">\n",
              "  <thead>\n",
              "    <tr style=\"text-align: right;\">\n",
              "      <th></th>\n",
              "      <th>Gender_ID</th>\n",
              "      <th>Degree</th>\n",
              "      <th>Age</th>\n",
              "      <th>Salary</th>\n",
              "    </tr>\n",
              "  </thead>\n",
              "  <tbody>\n",
              "    <tr>\n",
              "      <th>0</th>\n",
              "      <td>-1</td>\n",
              "      <td>2</td>\n",
              "      <td>36</td>\n",
              "      <td>88.998379</td>\n",
              "    </tr>\n",
              "    <tr>\n",
              "      <th>1</th>\n",
              "      <td>-1</td>\n",
              "      <td>3</td>\n",
              "      <td>47</td>\n",
              "      <td>125.585021</td>\n",
              "    </tr>\n",
              "    <tr>\n",
              "      <th>2</th>\n",
              "      <td>1</td>\n",
              "      <td>1</td>\n",
              "      <td>26</td>\n",
              "      <td>23.918151</td>\n",
              "    </tr>\n",
              "    <tr>\n",
              "      <th>3</th>\n",
              "      <td>-1</td>\n",
              "      <td>1</td>\n",
              "      <td>68</td>\n",
              "      <td>138.998072</td>\n",
              "    </tr>\n",
              "    <tr>\n",
              "      <th>4</th>\n",
              "      <td>1</td>\n",
              "      <td>2</td>\n",
              "      <td>33</td>\n",
              "      <td>112.882847</td>\n",
              "    </tr>\n",
              "  </tbody>\n",
              "</table>\n",
              "</div>"
            ],
            "text/plain": [
              "   Gender_ID  Degree  Age      Salary\n",
              "0         -1       2   36   88.998379\n",
              "1         -1       3   47  125.585021\n",
              "2          1       1   26   23.918151\n",
              "3         -1       1   68  138.998072\n",
              "4          1       2   33  112.882847"
            ]
          },
          "metadata": {},
          "execution_count": 2
        }
      ]
    },
    {
      "cell_type": "code",
      "metadata": {
        "id": "P1xThdZrHOAI"
      },
      "source": [
        "#Making three different attribute datasets: \n",
        "\n",
        "#First with only the \"Age\" column\n",
        "X1=np.array(df[[\"Age\"]]).reshape(-1,1)\n",
        "X1=X1.astype(\"int\")\n",
        "\n",
        "#Second with the \"Age\" and \"Degree\" columns\n",
        "X2=np.array(df[[\"Age\",\"Degree\"]]).reshape(-1,2)\n",
        "X2=X2.astype(\"int\")\n",
        "\n",
        "#Third with the \"Age\",\"Degree\" and the \"Gender_ID\" columns\n",
        "X3=np.array(df[[\"Age\",\"Degree\",\"Gender_ID\"]]).reshape(-1,3)\n",
        "X3=X3.astype(\"int\")\n",
        "\n",
        "#the column with the \"Salary\" values.\n",
        "Y=np.array(df[\"Salary\"]).reshape(-1,1)"
      ],
      "execution_count": 3,
      "outputs": []
    },
    {
      "cell_type": "markdown",
      "metadata": {
        "id": "6jlYqv4eKRhu"
      },
      "source": [
        "#Straight Curve Fitting Regression Model\n",
        "For straight curve fitting regression, the existing LinearRegression library has been used"
      ]
    },
    {
      "cell_type": "code",
      "metadata": {
        "colab": {
          "base_uri": "https://localhost:8080/"
        },
        "id": "m1TbUynLHQiS",
        "outputId": "ddb081e5-dc5e-48cf-e395-831bc3aad2b7"
      },
      "source": [
        "#The regression model in this cell is for data with only \"Age\" column.\n",
        "regr=LinearRegression()\n",
        "regr.fit(X1,Y)\n",
        "\n",
        "#The score evaluating the linear fit for X1 data.\n",
        "score_SCF_X1=regr.score(X1,Y)\n",
        "\n",
        "#prediction_SCF_X1 is the prediction by the model for X1 \n",
        "#using the straight curve fitting method. \n",
        "#It has the five predictions made for each of the\n",
        "#five rows from the training data set\n",
        "prediction_SCF_X1=regr.predict(np.array(X1))\n",
        "prediction_SCF_X1=[prediction_SCF_X1[i][0] for i in range(len(X1))]\n",
        "\n",
        "print(\"The prediction by the SCF model on data in X1:\")\n",
        "print(prediction_SCF_X1)\n",
        "print(\"\\n\")\n",
        "\n",
        "#This gives the prediction of salary for age 60, as asked in the question\n",
        "y_test=regr.predict(np.array([[60]]))\n",
        "print(\"The salary predicted by the straight curve when the age is 60 is:\",y_test[0][0])"
      ],
      "execution_count": 4,
      "outputs": [
        {
          "output_type": "stream",
          "name": "stdout",
          "text": [
            "The prediction by the SCF model on data in X1:\n",
            "[85.17566353936193, 108.82718633792182, 63.67427917703478, 153.98009349880886, 78.72524823066378]\n",
            "\n",
            "\n",
            "The salary predicted by the straight curve when the age is 60 is: 136.77898600894713\n"
          ]
        }
      ]
    },
    {
      "cell_type": "markdown",
      "metadata": {
        "id": "cixiNW_qLamV"
      },
      "source": [
        "The following two cells are the regression fits for the data stored in X2, X3. "
      ]
    },
    {
      "cell_type": "code",
      "metadata": {
        "colab": {
          "base_uri": "https://localhost:8080/"
        },
        "id": "AY36SGhZHVly",
        "outputId": "42655f2a-424a-45a6-ca3c-bb2e22d4ad02"
      },
      "source": [
        "#The regression model in this cell is for data with \"Age\" and \"Degree\" columns.\n",
        "regr=LinearRegression()\n",
        "regr.fit(X2,Y)\n",
        "\n",
        "#The score evaluating the linear fit for X2 data.\n",
        "score_SCF_X2=regr.score(X2,Y)\n",
        "\n",
        "#prediction_SCF_X2 is the prediction by the model for X2\n",
        "#using the straight curve fitting method. \n",
        "#It has the five predictions made for each of the\n",
        "#five rows from the training data set\n",
        "prediction_SCF_X2=regr.predict(np.array(X2))\n",
        "prediction_SCF_X2=[prediction_SCF_X2[i][0] for i in range(len(X2))]\n",
        "\n",
        "print(\"The prediction by the SCF model on data in X2:\")\n",
        "print(prediction_SCF_X2)"
      ],
      "execution_count": 5,
      "outputs": [
        {
          "output_type": "stream",
          "name": "stdout",
          "text": [
            "The prediction by the SCF model on data in X2:\n",
            "[89.60610345275774, 140.3245454191955, 41.15767113233068, 136.49807626478176, 82.7960745147255]\n"
          ]
        }
      ]
    },
    {
      "cell_type": "code",
      "metadata": {
        "colab": {
          "base_uri": "https://localhost:8080/"
        },
        "id": "q6aofCF-HaNu",
        "outputId": "c665da7f-ae5d-4ea2-813e-05c7403d55ca"
      },
      "source": [
        "#The regression model in this cell is for data with \"Age\", \"Degree\" and \n",
        "# \"Gender_ID\" columns.\n",
        "regr=LinearRegression()\n",
        "regr.fit(X3,Y)\n",
        "\n",
        "#The score evaluating the linear fit for X3 data.\n",
        "score_SCF_X3=regr.score(X3,Y)\n",
        "\n",
        "#prediction_SCF_X2 is the prediction by the model for X2\n",
        "#using the straight curve fitting method. \n",
        "#It has the five predictions made for each of the\n",
        "#five rows from the training data set\n",
        "prediction_SCF_X3=regr.predict(np.array(X3))\n",
        "prediction_SCF_X3=[prediction_SCF_X3[i][0] for i in range(len(X3))]\n",
        "\n",
        "print(\"The prediction by the SCF model on data in X3:\")\n",
        "print(prediction_SCF_X3)"
      ],
      "execution_count": 6,
      "outputs": [
        {
          "output_type": "stream",
          "name": "stdout",
          "text": [
            "The prediction by the SCF model on data in X3:\n",
            "[74.91926776794779, 141.2731738039828, 41.21534455614375, 137.38903122575596, 95.58565342996081]\n"
          ]
        }
      ]
    },
    {
      "cell_type": "markdown",
      "metadata": {
        "id": "gro2FyqbPHxi"
      },
      "source": [
        "# Maximum Likelihood Estimation"
      ]
    },
    {
      "cell_type": "code",
      "metadata": {
        "id": "BKr79AHWHcqs"
      },
      "source": [
        "#function to calculate the likelihood function, given the predicted outcomes, \n",
        "#the actual values and the number of samples. \n",
        "#It returns the log of the probability.\n",
        "\n",
        "def calcLogLikelihood(prediction,true,n):\n",
        "    #error column contains the difference between\n",
        "    #the predicted values and the true values.\n",
        "    error=true-prediction \n",
        "    sigma=np.std(error)\n",
        "    #the formula for the likelihood\n",
        "    formula=((1.0/(2.0*math.pi*(sigma**2)))**(n/2))* \\\n",
        "        np.exp(-1*((np.dot(error.T,error))/(2*sigma*sigma)))\n",
        "    return np.log(formula)"
      ],
      "execution_count": 7,
      "outputs": []
    },
    {
      "cell_type": "code",
      "metadata": {
        "id": "V6dNzCoJHnHf"
      },
      "source": [
        "#This cell has functions for three different models, corresponding to \n",
        "#each of the datasets. \n",
        "#They take in the variable array and return the negative loglikelihood \n",
        "#value for that set of variables.\n",
        "\n",
        "def MLE_model1(var):\n",
        "    x,y=np.array(df[\"Age\"]),np.array(df[\"Salary\"])\n",
        "    #predicts the value of y on the basis of the X column\n",
        "    y_prediction=np.array([(var[1]*(x[i])+var[0]) for i in range(len(x))])\n",
        "    likely=calcLogLikelihood(y_prediction,y,float(len(y_prediction)))\n",
        "    return (-1*likely)\n",
        "\n",
        "def MLE_model2(var):\n",
        "    x1,x2,y=df[\"Age\"],df[\"Degree\"],df[\"Salary\"]\n",
        "    #initializing the array\n",
        "    y_prediction=[0 for i in range(len(x1))]\n",
        "    #predicts the value of y on the basis of the X columns\n",
        "    y_prediction=[(var[2]*x2[i]+var[1]*x1[i]+var[0]) for i in range(len(x1))]\n",
        "    likely=calcLogLikelihood(y_prediction,y,float(len(y_prediction)))\n",
        "    return (-1*likely)\n",
        "\n",
        "def MLE_model3(var):\n",
        "    x1,x2,x3,y=df[\"Age\"],df[\"Degree\"],df[\"Gender_ID\"],df[\"Salary\"]\n",
        "    #initializing the array\n",
        "    y_prediction=[0 for i in range(len(x1))]\n",
        "    #predicts the value of y on the basis of the X columns\n",
        "    y_prediction=[(var[3]*x3[i]+var[2]*x2[i]+var[1]*x1[i]+var[0]) for i in range(len(x1))]\n",
        "    likely=calcLogLikelihood(y_prediction,y,float(len(y_prediction)))\n",
        "    return (-1*likely)"
      ],
      "execution_count": 8,
      "outputs": []
    },
    {
      "cell_type": "markdown",
      "metadata": {
        "id": "zkpAVFP-Q2iP"
      },
      "source": [
        "The next three cells are for the estimation of the parameters using the likelihood function.  \n",
        "We do so minimizing the -log  likelihood function instead of maximizing the loglikelihood function. In this way the MLE method is implemented."
      ]
    },
    {
      "cell_type": "code",
      "metadata": {
        "colab": {
          "base_uri": "https://localhost:8080/"
        },
        "id": "aTo6IrIoHo7K",
        "outputId": "1b810319-caec-4066-d59f-f797ace1d0b4"
      },
      "source": [
        "# For data with \"Age\" column.\n",
        "from scipy.optimize import minimize\n",
        "nvar=2\n",
        "var=np.zeros(nvar)\n",
        "#Randomly picked 2 variable inputs.\n",
        "var[0]=2\n",
        "var[1]=3\n",
        "\n",
        "#This is the minimizing function.\n",
        "res1=minimize(MLE_model1,var,method=\"BFGS\",options={\"disp\":False})\n",
        "#print(res1.x) #res.x gives the parameters in an array\n",
        "\n",
        "#Making the prediction\n",
        "theta_MLE_1=res1.x\n",
        "prediction_MLE_X1=[theta_MLE_1[0]+theta_MLE_1[1]*X1[i][0] for i in range(len(X1))]\n",
        "print(\"The prediction by the MLE model on data X1:\")\n",
        "print(prediction_MLE_X1)\n",
        "#print(prediction_SCF_X1)"
      ],
      "execution_count": 9,
      "outputs": [
        {
          "output_type": "stream",
          "name": "stdout",
          "text": [
            "The prediction by the MLE model on data X1:\n",
            "[85.17568666180486, 108.82718264332831, 63.674326678601716, 153.9800386080549, 78.7252786668439]\n"
          ]
        }
      ]
    },
    {
      "cell_type": "code",
      "metadata": {
        "colab": {
          "base_uri": "https://localhost:8080/"
        },
        "id": "3TwGGmQSHqki",
        "outputId": "ef82747c-8b21-4e12-9477-27b3c0a43683"
      },
      "source": [
        "# For data with \"Age\", \"Degree\" columns.\n",
        "from scipy.optimize import minimize\n",
        "nvar=3\n",
        "var=np.zeros(nvar)\n",
        "#Randomly picked 3 variable inputs.\n",
        "var[0]=2\n",
        "var[1]=3\n",
        "var[2]=5\n",
        "\n",
        "#This is the minimizing function.\n",
        "res2=minimize(MLE_model2,var,method=\"BFGS\",options={\"disp\":False})\n",
        "#print(res2.x)\n",
        "\n",
        "#Making the prediction\n",
        "theta_MLE_2=res2.x\n",
        "prediction_MLE_X2=[theta_MLE_2[0]+theta_MLE_2[1]*X2[i][0] + theta_MLE_2[2]*X2[i][1] for i in range(len(X2))]\n",
        "print(\"The prediction by the MLE model on data X2:\")\n",
        "print(prediction_MLE_X2)\n",
        "#print(prediction_SCF_X2)"
      ],
      "execution_count": 10,
      "outputs": [
        {
          "output_type": "stream",
          "name": "stdout",
          "text": [
            "The prediction by the MLE model on data X2:\n",
            "[89.60611152581689, 140.32454602616554, 41.15768595103656, 136.498060824907, 82.79608474911186]\n"
          ]
        }
      ]
    },
    {
      "cell_type": "code",
      "metadata": {
        "colab": {
          "base_uri": "https://localhost:8080/"
        },
        "id": "J2zF343vHsby",
        "outputId": "138f3da6-04ee-42e6-9a2d-471ae79a14f2"
      },
      "source": [
        "# For data with \"Age\", \"Degree\" and \"Gender_ID\" columns.\n",
        "from scipy.optimize import minimize\n",
        "nvar=4\n",
        "var=np.zeros(nvar)\n",
        "#Randomly picked 3 variable inputs.\n",
        "var[0]=2\n",
        "var[1]=3\n",
        "var[2]=5\n",
        "var[3]=7\n",
        "\n",
        "#This is the minimizing function.\n",
        "res3=minimize(MLE_model3,var,method=\"BFGS\",options={\"disp\":False})\n",
        "#print(res3.x)\n",
        "\n",
        "#Making the prediction\n",
        "theta_MLE_3=res3.x\n",
        "prediction_MLE_X3=[theta_MLE_3[0]+theta_MLE_3[1]*X3[i][0] + theta_MLE_3[2]*X3[i][1] + theta_MLE_3[3]*X3[i][2] for i in range(len(X3))]\n",
        "print(\"The prediction by the MLE model on data X3:\")\n",
        "print(prediction_MLE_X3)\n",
        "#print(prediction_SCF_X3)"
      ],
      "execution_count": 11,
      "outputs": [
        {
          "output_type": "stream",
          "name": "stdout",
          "text": [
            "The prediction by the MLE model on data X3:\n",
            "[74.91927288115535, 141.27317934330674, 41.21535205048788, 137.3890280598322, 95.58566208093428]\n"
          ]
        }
      ]
    },
    {
      "cell_type": "markdown",
      "metadata": {
        "id": "PUSff41yT4LV"
      },
      "source": [
        "#MAP Estimate "
      ]
    },
    {
      "cell_type": "code",
      "metadata": {
        "id": "dkS34XzDHuwy"
      },
      "source": [
        "#This cell has the 3 MAP models with the probability distribution due to the \n",
        "#parameters added to the log likelihood calculated in the previous section.\n",
        "#The distribution has mean zero and variance is given by the\n",
        "#Covariance matrix (Identity matrix multiplied by a constant)\n",
        "\n",
        "def MAP_model1(var):\n",
        "    n=len(var)\n",
        "    x,y=np.array(df[\"Age\"]),np.array(df[\"Salary\"])\n",
        "    #predicts the value of y on the basis of the X column\n",
        "    y_prediction=np.array([(var[1]*(x[i])+var[0]) for i in range(len(x))])\n",
        "    \n",
        "    #The covariance matrix\n",
        "    cov_mat=np.identity(n,dtype=int)*2\n",
        "    var_dist=multivariate_normal.pdf(var,[0]*n,cov_mat)\n",
        "    \n",
        "    #Adding the log of the probability for that set of parameters\n",
        "    likely=calcLogLikelihood(y_prediction,y,float(len(y_prediction)))+np.log(var_dist)\n",
        "    return (-1*likely)\n",
        "\n",
        "def MAP_model2(var):\n",
        "    n=len(var)\n",
        "    x1,x2,y=df[\"Age\"],df[\"Degree\"],df[\"Salary\"]\n",
        "    #initializing the array\n",
        "    y_prediction=[0 for i in range(len(x1))]\n",
        "    #predicts the value of y on the basis of the X columns\n",
        "    y_prediction=[(var[2]*x2[i]+var[1]*x1[i]+var[0]) for i in range(len(x1))]\n",
        "    \n",
        "    #The covariance matrix\n",
        "    cov_mat=np.identity(n,dtype=int)*2\n",
        "    var_dist=multivariate_normal.pdf(var,[0]*n,cov_mat)\n",
        "    \n",
        "    #Adding the log of the probability for that set of parameters\n",
        "    likely=calcLogLikelihood(y_prediction,y,float(len(y_prediction)))+np.log(var_dist)\n",
        "    return (-1*likely)\n",
        "\n",
        "def MAP_model3(var):\n",
        "    n=len(var)\n",
        "    x1,x2,x3,y=df[\"Age\"],df[\"Degree\"],df[\"Gender_ID\"],df[\"Salary\"]\n",
        "    y_prediction=[0 for i in range(len(x1))]\n",
        "    #predicts the value of y on the basis of the X columns\n",
        "    y_prediction=[(var[3]*x3[i]+var[2]*x2[i]+var[1]*x1[i]+var[0]) for i in range(len(x1))]\n",
        "    \n",
        "    #The covariance matrix\n",
        "    cov_mat=np.identity(n,dtype=int)*2\n",
        "    var_dist=multivariate_normal.pdf(var,[0]*n,cov_mat)\n",
        "    \n",
        "    #Adding the log of the probability for that set of parameters\n",
        "    likely=calcLogLikelihood(y_prediction,y,float(len(y_prediction)))+np.log(var_dist)\n",
        "    return (-1*likely)"
      ],
      "execution_count": 12,
      "outputs": []
    },
    {
      "cell_type": "markdown",
      "metadata": {
        "id": "T27kJao3Vrt3"
      },
      "source": [
        "The following three cells are the models for minimizing the loss and predicting the results."
      ]
    },
    {
      "cell_type": "code",
      "metadata": {
        "colab": {
          "base_uri": "https://localhost:8080/"
        },
        "id": "EyeacWd4H05V",
        "outputId": "3687575e-c2f8-44a1-de7c-65e967b06dd3"
      },
      "source": [
        "# For data with \"Age\" column.\n",
        "from scipy.optimize import minimize\n",
        "nvar=2\n",
        "var=np.zeros(nvar)\n",
        "#Randomly picked 2 variable inputs.\n",
        "var[0]=2\n",
        "var[1]=3\n",
        "\n",
        "#This is the minimizing function.\n",
        "res1=minimize(MAP_model1,var,method=\"BFGS\",options={\"disp\":False})\n",
        "#print(res1.x)\n",
        "\n",
        "#Making the prediction\n",
        "theta_MAP_1=res1.x\n",
        "prediction_MAP_X1=[theta_MAP_1[0]+theta_MAP_1[1]*X1[i][0] for i in range(len(X1))]\n",
        "print(\"The prediction by the MAP model on data X1:\")\n",
        "print(prediction_MAP_X1)\n",
        "#print(prediction_SCF_X1)\n",
        "#print(Y)"
      ],
      "execution_count": 13,
      "outputs": [
        {
          "output_type": "stream",
          "name": "stdout",
          "text": [
            "The prediction by the MAP model on data X1:\n",
            "[80.69529094756592, 105.33380080214222, 58.29664562522384, 152.3709559790606, 73.9756973508633]\n"
          ]
        }
      ]
    },
    {
      "cell_type": "code",
      "metadata": {
        "colab": {
          "base_uri": "https://localhost:8080/"
        },
        "id": "e1h8PfnHIHDD",
        "outputId": "34bcf2b7-eb5a-4114-d367-3c324fe72af6"
      },
      "source": [
        "# For data with \"Age\", \"Degree\"columns.\n",
        "from scipy.optimize import minimize\n",
        "nvar=3\n",
        "var=np.zeros(nvar)\n",
        "#Randomly picked 3 variable inputs.\n",
        "var[0]=2\n",
        "var[1]=3\n",
        "var[2]=5\n",
        "\n",
        "#This is the minimizing function.\n",
        "res2=minimize(MAP_model2,var,method=\"BFGS\",options={\"disp\":False})\n",
        "#print(res2.x)\n",
        "\n",
        "#Making the prediction\n",
        "theta_MAP_2=res2.x\n",
        "#print(res2.x)\n",
        "prediction_MAP_X2=[theta_MAP_2[0]+theta_MAP_2[1]*X2[i][0] + theta_MAP_2[2]*X2[i][1] for i in range(len(X2))]\n",
        "print(\"The prediction by the MAP model on data X2:\")\n",
        "print(prediction_MAP_X2)\n",
        "#print(prediction_SCF_X2)\n",
        "#print(Y)"
      ],
      "execution_count": 14,
      "outputs": [
        {
          "output_type": "stream",
          "name": "stdout",
          "text": [
            "The prediction by the MAP model on data X2:\n",
            "[80.95164989338468, 105.7937788382329, 58.33868618018479, 151.96362590941328, 74.2641541984398]\n"
          ]
        }
      ]
    },
    {
      "cell_type": "code",
      "metadata": {
        "colab": {
          "base_uri": "https://localhost:8080/"
        },
        "id": "eT9QO2C0IJhH",
        "outputId": "fccc6ac9-f6bb-4ed0-b4ac-9588b122cfcc"
      },
      "source": [
        "# For data with \"Age\", \"Degree\" and \"Gender_ID\" columns.\n",
        "from scipy.optimize import minimize\n",
        "nvar=4\n",
        "var=np.zeros(nvar)\n",
        "#Randomly picked 4 variable inputs.\n",
        "var[0]=2\n",
        "var[1]=3\n",
        "var[2]=5\n",
        "var[3]=7\n",
        "\n",
        "#This is the minimizing function.\n",
        "res3=minimize(MAP_model3,var,method=\"BFGS\",options={\"disp\":False})\n",
        "#print(res3.x)\n",
        "\n",
        "#Making the prediction\n",
        "theta_MAP_3=res3.x\n",
        "prediction_MAP_X3=[theta_MAP_3[0]+theta_MAP_3[1]*X3[i][0] + theta_MAP_3[2]*X3[i][1] + theta_MAP_3[3]*X3[i][2] for i in range(len(X3))]\n",
        "print(\"The prediction by the MAP model on data X3:\")\n",
        "print(prediction_MAP_X3)\n",
        "#print(prediction_SCF_X3)\n",
        "#print(Y)"
      ],
      "execution_count": 15,
      "outputs": [
        {
          "output_type": "stream",
          "name": "stdout",
          "text": [
            "The prediction by the MAP model on data X3:\n",
            "[80.97397214831902, 105.8130818595535, 58.29938056417188, 151.976947922029, 74.22294743959758]\n"
          ]
        }
      ]
    },
    {
      "cell_type": "markdown",
      "metadata": {
        "id": "ozVoSysyV5a1"
      },
      "source": [
        "# Comparison and Summary"
      ]
    },
    {
      "cell_type": "code",
      "metadata": {
        "colab": {
          "base_uri": "https://localhost:8080/"
        },
        "id": "cOPlgXX6IMMo",
        "outputId": "8c842172-4cbf-4460-9e6e-4a8f5384c586"
      },
      "source": [
        "y=[Y[i][0] for i in range(len(Y))]\n",
        "print(\"The correct values of y, as given in the data are:\",y)"
      ],
      "execution_count": 16,
      "outputs": [
        {
          "output_type": "stream",
          "name": "stdout",
          "text": [
            "The correct values of y, as given in the data are: [88.99837884802459, 125.58502145761152, 23.918150943477933, 138.9980724920505, 112.8828470426266]\n"
          ]
        }
      ]
    },
    {
      "cell_type": "code",
      "metadata": {
        "colab": {
          "base_uri": "https://localhost:8080/"
        },
        "id": "Q1FxuKRrIS8O",
        "outputId": "bc39fe0b-68a1-451d-bdbe-3afa3698e802"
      },
      "source": [
        "print(\"When 'Age' is the only parameter:\")\n",
        "print(\"\\t Predictions by the Straight curve fit model are:\", prediction_SCF_X1)\n",
        "print(\"\\t Predictions by the MLE model are:\", prediction_MLE_X1)\n",
        "print(\"\\t Predictions by the MAP model are:\", prediction_MAP_X1)"
      ],
      "execution_count": 17,
      "outputs": [
        {
          "output_type": "stream",
          "name": "stdout",
          "text": [
            "When 'Age' is the only parameter:\n",
            "\t Predictions by the Straight curve fit model are: [85.17566353936193, 108.82718633792182, 63.67427917703478, 153.98009349880886, 78.72524823066378]\n",
            "\t Predictions by the MLE model are: [85.17568666180486, 108.82718264332831, 63.674326678601716, 153.9800386080549, 78.7252786668439]\n",
            "\t Predictions by the MAP model are: [80.69529094756592, 105.33380080214222, 58.29664562522384, 152.3709559790606, 73.9756973508633]\n"
          ]
        }
      ]
    },
    {
      "cell_type": "code",
      "metadata": {
        "colab": {
          "base_uri": "https://localhost:8080/"
        },
        "id": "1v1WReyCIUqx",
        "outputId": "ec2483f6-d22c-43c3-bed8-aad6505d7508"
      },
      "source": [
        "print(\"When 'Age', 'Degree' are the parameters:\")\n",
        "print(\"\\t Predictions by the Straight curve fit model are:\", prediction_SCF_X2)\n",
        "print(\"\\t Predictions by the MLE model are:\", prediction_MLE_X2)\n",
        "print(\"\\t Predictions by the MAP model are:\", prediction_MAP_X2)"
      ],
      "execution_count": 18,
      "outputs": [
        {
          "output_type": "stream",
          "name": "stdout",
          "text": [
            "When 'Age', 'Degree' are the parameters:\n",
            "\t Predictions by the Straight curve fit model are: [89.60610345275774, 140.3245454191955, 41.15767113233068, 136.49807626478176, 82.7960745147255]\n",
            "\t Predictions by the MLE model are: [89.60611152581689, 140.32454602616554, 41.15768595103656, 136.498060824907, 82.79608474911186]\n",
            "\t Predictions by the MAP model are: [80.95164989338468, 105.7937788382329, 58.33868618018479, 151.96362590941328, 74.2641541984398]\n"
          ]
        }
      ]
    },
    {
      "cell_type": "code",
      "metadata": {
        "colab": {
          "base_uri": "https://localhost:8080/"
        },
        "id": "4uczxQvcIXJ4",
        "outputId": "e263a749-295d-4f1e-8bc5-16bd6455838b"
      },
      "source": [
        "print(\"When 'Age', 'Degree' and 'Gender_ID' are the parameters:\")\n",
        "print(\"\\t Predictions by the Straight curve fit model are:\", prediction_SCF_X3)\n",
        "print(\"\\t Predictions by the MLE model are:\", prediction_MLE_X3)\n",
        "print(\"\\t Predictions by the MAP model are:\", prediction_MAP_X3)"
      ],
      "execution_count": 19,
      "outputs": [
        {
          "output_type": "stream",
          "name": "stdout",
          "text": [
            "When 'Age', 'Degree' and 'Gender_ID' are the parameters:\n",
            "\t Predictions by the Straight curve fit model are: [74.91926776794779, 141.2731738039828, 41.21534455614375, 137.38903122575596, 95.58565342996081]\n",
            "\t Predictions by the MLE model are: [74.91927288115535, 141.27317934330674, 41.21535205048788, 137.3890280598322, 95.58566208093428]\n",
            "\t Predictions by the MAP model are: [80.97397214831902, 105.8130818595535, 58.29938056417188, 151.976947922029, 74.22294743959758]\n"
          ]
        }
      ]
    },
    {
      "cell_type": "markdown",
      "metadata": {
        "id": "ZUyBfc4yIfi8"
      },
      "source": [
        "The predictions for the MLE and the straight curve fitting model are the same. MAP models give slightly different answers. The predictions for the MAP models also depend on the value of the lambda for the covariance matrix."
      ]
    },
    {
      "cell_type": "code",
      "metadata": {
        "colab": {
          "base_uri": "https://localhost:8080/"
        },
        "id": "IaggALShIauu",
        "outputId": "c6c63519-d7ff-4b22-c1cd-e1d1e2d24eb8"
      },
      "source": [
        "sq_error_SCF_X1=[(prediction_SCF_X1[i]-y[i])**2 for i in range(len(y))]\n",
        "mean_sq_error_SCF_X1=(sum(sq_error_SCF_X1)/len(y))\n",
        "print(\"The Mean squared error for SCF Model using data in X1 is: \", mean_sq_error_SCF_X1)\n",
        "sq_error_MLE_X1=[(prediction_MLE_X1[i]-y[i])**2 for i in range(len(y))]\n",
        "mean_sq_error_MLE_X1=(sum(sq_error_MLE_X1)/len(y))\n",
        "print(\"The Mean squared error for MLE Model using data in X1 is: \", mean_sq_error_MLE_X1)\n",
        "sq_error_MAP_X1=[(prediction_MAP_X1[i]-y[i])**2 for i in range(len(y))]\n",
        "mean_sq_error_MAP_X1=(sum(sq_error_MAP_X1)/len(y))\n",
        "print(\"The Mean squared error for MAP Model using data in X1 is: \", mean_sq_error_MAP_X1)"
      ],
      "execution_count": 20,
      "outputs": [
        {
          "output_type": "stream",
          "name": "stdout",
          "text": [
            "The Mean squared error for SCF Model using data in X1 is:  653.4380864797513\n",
            "The Mean squared error for MLE Model using data in X1 is:  653.4380864811001\n",
            "The Mean squared error for MAP Model using data in X1 is:  670.7068826393009\n"
          ]
        }
      ]
    },
    {
      "cell_type": "code",
      "metadata": {
        "colab": {
          "base_uri": "https://localhost:8080/"
        },
        "id": "psgA9IKsIhuJ",
        "outputId": "49389d02-3d20-4b59-cd96-0d24bcda8b0f"
      },
      "source": [
        "sq_error_SCF_X2=[(prediction_SCF_X2[i]-y[i])**2 for i in range(len(y))]\n",
        "mean_sq_error_SCF_X2=(sum(sq_error_SCF_X2)/len(y))\n",
        "print(\"The Mean squared error for SCF Model using data in X2 is: \", mean_sq_error_SCF_X2)\n",
        "sq_error_MLE_X2=[(prediction_MLE_X2[i]-y[i])**2 for i in range(len(y))]\n",
        "mean_sq_error_MLE_X2=(sum(sq_error_MLE_X2)/len(y))\n",
        "print(\"The Mean squared error for MLE Model using data in X2 is: \", mean_sq_error_MLE_X2)\n",
        "sq_error_MAP_X2=[(prediction_MAP_X2[i]-y[i])**2 for i in range(len(y))]\n",
        "mean_sq_error_MAP_X2=(sum(sq_error_MAP_X2)/len(y))\n",
        "print(\"The Mean squared error for MAP Model using data in X2 is: \", mean_sq_error_MAP_X2)"
      ],
      "execution_count": 21,
      "outputs": [
        {
          "output_type": "stream",
          "name": "stdout",
          "text": [
            "The Mean squared error for SCF Model using data in X2 is:  285.25756288663786\n",
            "The Mean squared error for MLE Model using data in X2 is:  285.25756288676354\n",
            "The Mean squared error for MAP Model using data in X2 is:  660.1450779364118\n"
          ]
        }
      ]
    },
    {
      "cell_type": "code",
      "metadata": {
        "colab": {
          "base_uri": "https://localhost:8080/"
        },
        "id": "qCphCxmnIjww",
        "outputId": "81bcbbfa-4211-4969-e3b5-e941002b5d3f"
      },
      "source": [
        "sq_error_SCF_X3=[(prediction_SCF_X3[i]-y[i])**2 for i in range(len(y))]\n",
        "mean_sq_error_SCF_X3=(sum(sq_error_SCF_X3)/len(y))\n",
        "print(\"The Mean squared error for SCF Model using data in X1 is: \", mean_sq_error_SCF_X3)\n",
        "sq_error_MLE_X3=[(prediction_MLE_X3[i]-y[i])**2 for i in range(len(y))]\n",
        "mean_sq_error_MLE_X3=(sum(sq_error_MLE_X3)/len(y))\n",
        "print(\"The Mean squared error for MLE Model using data in X3 is: \", mean_sq_error_MLE_X3)\n",
        "sq_error_MAP_X3=[(prediction_MAP_X3[i]-y[i])**2 for i in range(len(y))]\n",
        "mean_sq_error_MAP_X3=(sum(sq_error_MAP_X3)/len(y))\n",
        "print(\"The Mean squared error for MAP Model using data in X3 is: \", mean_sq_error_MAP_X3)"
      ],
      "execution_count": 22,
      "outputs": [
        {
          "output_type": "stream",
          "name": "stdout",
          "text": [
            "The Mean squared error for SCF Model using data in X1 is:  209.06286407856547\n",
            "The Mean squared error for MLE Model using data in X3 is:  209.0628640786055\n",
            "The Mean squared error for MAP Model using data in X3 is:  660.0857386651198\n"
          ]
        }
      ]
    },
    {
      "cell_type": "markdown",
      "metadata": {
        "id": "Hmv8oQFaIwPt"
      },
      "source": [
        "**CONCLUSION**\n",
        "\n",
        "The MLE and Straight Curve fitting models give almost the same result. The MAP model, on the other hand, gives a different prediction. This is because the results from the MAP model also depend on the value of lambda in the covariance matrix. \n",
        "While the MAP model is expected to perform better, in this case, the MLE and SCF models gives a lower loss and therefore, a better result. \n",
        "This could be because the function does not have a zero-one loss in the case of MAP Estimation."
      ]
    }
  ]
}