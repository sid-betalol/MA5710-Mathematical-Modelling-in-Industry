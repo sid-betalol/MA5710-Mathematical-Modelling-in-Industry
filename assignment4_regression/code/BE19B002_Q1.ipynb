{
 "cells": [
  {
   "cell_type": "code",
   "execution_count": 54,
   "metadata": {},
   "outputs": [],
   "source": [
    "import numpy as np\n",
    "import matplotlib as plt\n",
    "import pandas as pd\n",
    "import random\n",
    "import sklearn\n",
    "import math\n",
    "from sklearn.linear_model import LinearRegression"
   ]
  },
  {
   "cell_type": "code",
   "execution_count": 45,
   "metadata": {},
   "outputs": [
    {
     "data": {
      "text/html": [
       "<div>\n",
       "<style scoped>\n",
       "    .dataframe tbody tr th:only-of-type {\n",
       "        vertical-align: middle;\n",
       "    }\n",
       "\n",
       "    .dataframe tbody tr th {\n",
       "        vertical-align: top;\n",
       "    }\n",
       "\n",
       "    .dataframe thead th {\n",
       "        text-align: right;\n",
       "    }\n",
       "</style>\n",
       "<table border=\"1\" class=\"dataframe\">\n",
       "  <thead>\n",
       "    <tr style=\"text-align: right;\">\n",
       "      <th></th>\n",
       "      <th>Gender_ID</th>\n",
       "      <th>Degree</th>\n",
       "      <th>Age</th>\n",
       "      <th>Salary</th>\n",
       "    </tr>\n",
       "  </thead>\n",
       "  <tbody>\n",
       "    <tr>\n",
       "      <th>0</th>\n",
       "      <td>-1</td>\n",
       "      <td>2</td>\n",
       "      <td>36</td>\n",
       "      <td>88.827044</td>\n",
       "    </tr>\n",
       "    <tr>\n",
       "      <th>1</th>\n",
       "      <td>-1</td>\n",
       "      <td>3</td>\n",
       "      <td>47</td>\n",
       "      <td>122.824304</td>\n",
       "    </tr>\n",
       "    <tr>\n",
       "      <th>2</th>\n",
       "      <td>1</td>\n",
       "      <td>1</td>\n",
       "      <td>26</td>\n",
       "      <td>23.759862</td>\n",
       "    </tr>\n",
       "    <tr>\n",
       "      <th>3</th>\n",
       "      <td>-1</td>\n",
       "      <td>1</td>\n",
       "      <td>68</td>\n",
       "      <td>136.930458</td>\n",
       "    </tr>\n",
       "    <tr>\n",
       "      <th>4</th>\n",
       "      <td>1</td>\n",
       "      <td>2</td>\n",
       "      <td>33</td>\n",
       "      <td>113.784797</td>\n",
       "    </tr>\n",
       "  </tbody>\n",
       "</table>\n",
       "</div>"
      ],
      "text/plain": [
       "   Gender_ID  Degree  Age      Salary\n",
       "0         -1       2   36   88.827044\n",
       "1         -1       3   47  122.824304\n",
       "2          1       1   26   23.759862\n",
       "3         -1       1   68  136.930458\n",
       "4          1       2   33  113.784797"
      ]
     },
     "execution_count": 45,
     "metadata": {},
     "output_type": "execute_result"
    }
   ],
   "source": [
    "header=[\"Gender_ID\",\"Degree\",\"Age\",\"Salary\"]\n",
    "noise=np.random.normal(0,1,5)\n",
    "\n",
    "training_data=[\n",
    "    [-1,-1,+1,-1,+1],\n",
    "    [2,3,1,1,2],\n",
    "    [36,47,26,68,33],\n",
    "    [89.563,123.543,23.989,138.769,113.888]\n",
    "]\n",
    "\n",
    "\n",
    "df=pd.DataFrame(training_data).transpose()\n",
    "df.columns=header\n",
    "\n",
    "\n",
    "#Adding noise to the data.\n",
    "df[\"Salary\"]=[df[\"Salary\"][i]+noise[i] for i in range(len(df))]\n",
    "df.head()\n",
    "data_types={\"Gender_ID\":int,\"Degree\":int,\"Age\":int}\n",
    "df.astype(data_types)"
   ]
  },
  {
   "cell_type": "code",
   "execution_count": 69,
   "metadata": {},
   "outputs": [],
   "source": [
    "X1=np.array(df[[\"Age\"]]).reshape(-1,1)\n",
    "X1=X1.astype(\"int\")\n",
    "X2=np.array(df[[\"Age\",\"Degree\"]]).reshape(-1,2)\n",
    "X2=X2.astype(\"int\")\n",
    "X3=np.array(df[[\"Age\",\"Gender_ID\",\"Degree\"]]).reshape(-1,3)\n",
    "X3=X3.astype(\"int\")\n",
    "\n",
    "Y=np.array(df[\"Salary\"]).reshape(-1,1)"
   ]
  },
  {
   "cell_type": "code",
   "execution_count": 89,
   "metadata": {},
   "outputs": [
    {
     "name": "stdout",
     "output_type": "stream",
     "text": [
      "0.5844089873037939\n",
      "[[134.719095]]\n"
     ]
    }
   ],
   "source": [
    "regr=LinearRegression()\n",
    "regr.fit(X1,Y)\n",
    "print(regr.score(X1,Y))\n",
    "\n",
    "y_test=regr.predict(np.array([[60]]))\n",
    "print(y_test)"
   ]
  },
  {
   "cell_type": "code",
   "execution_count": 78,
   "metadata": {},
   "outputs": [
    {
     "name": "stdout",
     "output_type": "stream",
     "text": [
      "0.8042942774160446\n"
     ]
    }
   ],
   "source": [
    "regr=LinearRegression()\n",
    "regr.fit(X2,Y)\n",
    "print(regr.score(X2,Y))"
   ]
  },
  {
   "cell_type": "code",
   "execution_count": 79,
   "metadata": {},
   "outputs": [
    {
     "name": "stdout",
     "output_type": "stream",
     "text": [
      "0.8545064315503137\n"
     ]
    }
   ],
   "source": [
    "regr=LinearRegression()\n",
    "regr.fit(X3,Y)\n",
    "print(regr.score(X3,Y))"
   ]
  },
  {
   "cell_type": "code",
   "execution_count": null,
   "metadata": {},
   "outputs": [],
   "source": []
  },
  {
   "cell_type": "code",
   "execution_count": null,
   "metadata": {},
   "outputs": [],
   "source": []
  },
  {
   "cell_type": "code",
   "execution_count": null,
   "metadata": {},
   "outputs": [],
   "source": []
  },
  {
   "cell_type": "code",
   "execution_count": 84,
   "metadata": {},
   "outputs": [],
   "source": [
    "def calcLogLikelihood(guess,true,n):\n",
    "    error=true-guess\n",
    "    sigma=np.std(error)\n",
    "    f=((1.0/(2.0*math.pi*(sigma**2)))**(n/2))* \\\n",
    "        np.exp(-1*((np.dot(error.T,error))/(2*sigma*sigma)))\n",
    "    return np.log(f)"
   ]
  },
  {
   "cell_type": "code",
   "execution_count": 81,
   "metadata": {},
   "outputs": [],
   "source": [
    "#As a function of age only\n",
    "def guessing_model1(var):\n",
    "    x,y=np.array(df[\"Age\"]),np.array(df[\"Salary\"])\n",
    "    yguess=np.array([(var[1]*(x[i])+var[0]) for i in range(len(x))])\n",
    "    f=calcLogLikelihood(yguess,y,float(len(yguess)))\n",
    "    return (-1*f)\n",
    "\n",
    "def guessing_model2(var):\n",
    "    x1,x2,y=df[\"Age\"],df[\"Degree\"],df[\"Salary\"]\n",
    "    yguess=[0 for i in range(len(x1))]\n",
    "    yguess=[(var[2]*x2[i]+var[1]*x1[i]+var[0]) for i in range(len(x1))]\n",
    "    f=calcLogLikelihood(yguess,y,float(len(yguess)))\n",
    "    return (-1*f)\n",
    "\n",
    "def guessing_model3(var):\n",
    "    x1,x2,x3,y=df[\"Age\"],df[\"Degree\"],df[\"Gender_ID\"],df[\"Salary\"]\n",
    "    yguess=[0 for i in range(len(x1))]\n",
    "    yguess=[(var[3]*x3[i]+var[2]*x2[i]+var[1]*x1[i]+var[0]) for i in range(len(x1))]\n",
    "    f=calcLogLikelihood(yguess,y,float(len(yguess)))\n",
    "    return (-1*f)"
   ]
  },
  {
   "cell_type": "code",
   "execution_count": 87,
   "metadata": {},
   "outputs": [
    {
     "name": "stdout",
     "output_type": "stream",
     "text": [
      "Optimization terminated successfully.\n",
      "         Current function value: 23.335732\n",
      "         Iterations: 17\n",
      "         Function evaluations: 57\n",
      "         Gradient evaluations: 19\n",
      "      fun: 23.335731913577675\n",
      " hess_inv: array([[ 1.21966226e+03, -2.60231879e+01],\n",
      "       [-2.60231879e+01,  6.19742874e-01]])\n",
      "      jac: array([0.00000000e+00, 3.09944153e-06])\n",
      "  message: 'Optimization terminated successfully.'\n",
      "     nfev: 57\n",
      "      nit: 17\n",
      "     njev: 19\n",
      "   status: 0\n",
      "  success: True\n",
      "        x: array([9.7397084 , 2.08299019])\n"
     ]
    }
   ],
   "source": [
    "from scipy.optimize import minimize\n",
    "nvar=2\n",
    "var=np.zeros(nvar)\n",
    "var[0]=15\n",
    "var[1]=2\n",
    "\n",
    "res=minimize(guessing_model1,var,method=\"BFGS\",options={\"disp\":True})\n",
    "print(res)"
   ]
  },
  {
   "cell_type": "code",
   "execution_count": null,
   "metadata": {},
   "outputs": [],
   "source": []
  },
  {
   "cell_type": "code",
   "execution_count": null,
   "metadata": {},
   "outputs": [],
   "source": []
  },
  {
   "cell_type": "code",
   "execution_count": null,
   "metadata": {},
   "outputs": [],
   "source": []
  },
  {
   "cell_type": "code",
   "execution_count": null,
   "metadata": {},
   "outputs": [],
   "source": []
  },
  {
   "cell_type": "code",
   "execution_count": null,
   "metadata": {},
   "outputs": [],
   "source": []
  }
 ],
 "metadata": {
  "interpreter": {
   "hash": "d9e4803da988dc070712e37fe1ba1df1cb4573f2fe7d9fe88b0c597a7c79a9a8"
  },
  "kernelspec": {
   "display_name": "Python 3.9.7 64-bit",
   "name": "python3"
  },
  "language_info": {
   "codemirror_mode": {
    "name": "ipython",
    "version": 3
   },
   "file_extension": ".py",
   "mimetype": "text/x-python",
   "name": "python",
   "nbconvert_exporter": "python",
   "pygments_lexer": "ipython3",
   "version": "3.9.7"
  },
  "orig_nbformat": 4
 },
 "nbformat": 4,
 "nbformat_minor": 2
}
