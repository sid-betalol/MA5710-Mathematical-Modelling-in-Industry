{
 "cells": [
  {
   "cell_type": "code",
   "execution_count": 156,
   "metadata": {},
   "outputs": [],
   "source": [
    "import numpy as np\n",
    "import matplotlib as plt\n",
    "import pandas as pd\n",
    "import random\n",
    "import sklearn\n",
    "import math\n",
    "from sklearn.linear_model import LinearRegression\n",
    "from scipy.stats import multivariate_normal"
   ]
  },
  {
   "cell_type": "markdown",
   "metadata": {},
   "source": [
    "<b>PREPARING THE DATA FOR THE MODEL</b>"
   ]
  },
  {
   "cell_type": "code",
   "execution_count": 45,
   "metadata": {},
   "outputs": [
    {
     "data": {
      "text/html": [
       "<div>\n",
       "<style scoped>\n",
       "    .dataframe tbody tr th:only-of-type {\n",
       "        vertical-align: middle;\n",
       "    }\n",
       "\n",
       "    .dataframe tbody tr th {\n",
       "        vertical-align: top;\n",
       "    }\n",
       "\n",
       "    .dataframe thead th {\n",
       "        text-align: right;\n",
       "    }\n",
       "</style>\n",
       "<table border=\"1\" class=\"dataframe\">\n",
       "  <thead>\n",
       "    <tr style=\"text-align: right;\">\n",
       "      <th></th>\n",
       "      <th>Gender_ID</th>\n",
       "      <th>Degree</th>\n",
       "      <th>Age</th>\n",
       "      <th>Salary</th>\n",
       "    </tr>\n",
       "  </thead>\n",
       "  <tbody>\n",
       "    <tr>\n",
       "      <th>0</th>\n",
       "      <td>-1</td>\n",
       "      <td>2</td>\n",
       "      <td>36</td>\n",
       "      <td>88.827044</td>\n",
       "    </tr>\n",
       "    <tr>\n",
       "      <th>1</th>\n",
       "      <td>-1</td>\n",
       "      <td>3</td>\n",
       "      <td>47</td>\n",
       "      <td>122.824304</td>\n",
       "    </tr>\n",
       "    <tr>\n",
       "      <th>2</th>\n",
       "      <td>1</td>\n",
       "      <td>1</td>\n",
       "      <td>26</td>\n",
       "      <td>23.759862</td>\n",
       "    </tr>\n",
       "    <tr>\n",
       "      <th>3</th>\n",
       "      <td>-1</td>\n",
       "      <td>1</td>\n",
       "      <td>68</td>\n",
       "      <td>136.930458</td>\n",
       "    </tr>\n",
       "    <tr>\n",
       "      <th>4</th>\n",
       "      <td>1</td>\n",
       "      <td>2</td>\n",
       "      <td>33</td>\n",
       "      <td>113.784797</td>\n",
       "    </tr>\n",
       "  </tbody>\n",
       "</table>\n",
       "</div>"
      ],
      "text/plain": [
       "   Gender_ID  Degree  Age      Salary\n",
       "0         -1       2   36   88.827044\n",
       "1         -1       3   47  122.824304\n",
       "2          1       1   26   23.759862\n",
       "3         -1       1   68  136.930458\n",
       "4          1       2   33  113.784797"
      ]
     },
     "execution_count": 45,
     "metadata": {},
     "output_type": "execute_result"
    }
   ],
   "source": [
    "header=[\"Gender_ID\",\"Degree\",\"Age\",\"Salary\"]\n",
    "noise=np.random.normal(0,1,5)\n",
    "\n",
    "training_data=[\n",
    "    [-1,-1,+1,-1,+1],\n",
    "    [2,3,1,1,2],\n",
    "    [36,47,26,68,33],\n",
    "    [89.563,123.543,23.989,138.769,113.888]\n",
    "]\n",
    "\n",
    "\n",
    "df=pd.DataFrame(training_data).transpose()\n",
    "df.columns=header\n",
    "\n",
    "\n",
    "#Adding noise to the data.\n",
    "df[\"Salary\"]=[df[\"Salary\"][i]+noise[i] for i in range(len(df))]\n",
    "df.head()\n",
    "data_types={\"Gender_ID\":int,\"Degree\":int,\"Age\":int}\n",
    "df.astype(data_types)"
   ]
  },
  {
   "cell_type": "code",
   "execution_count": 144,
   "metadata": {},
   "outputs": [
    {
     "name": "stdout",
     "output_type": "stream",
     "text": [
      "[[36  2 -1]\n",
      " [47  3 -1]\n",
      " [26  1  1]\n",
      " [68  1 -1]\n",
      " [33  2  1]]\n"
     ]
    }
   ],
   "source": [
    "X1=np.array(df[[\"Age\"]]).reshape(-1,1)\n",
    "X1=X1.astype(\"int\")\n",
    "X2=np.array(df[[\"Age\",\"Degree\"]]).reshape(-1,2)\n",
    "X2=X2.astype(\"int\")\n",
    "X3=np.array(df[[\"Age\",\"Degree\",\"Gender_ID\"]]).reshape(-1,3)\n",
    "X3=X3.astype(\"int\")\n",
    "Y=np.array(df[\"Salary\"]).reshape(-1,1)\n",
    "print(X3)"
   ]
  },
  {
   "cell_type": "markdown",
   "metadata": {},
   "source": [
    "<b>STRAIGHT CURVE FITTING REGRESSION</b>"
   ]
  },
  {
   "cell_type": "code",
   "execution_count": 124,
   "metadata": {},
   "outputs": [
    {
     "name": "stdout",
     "output_type": "stream",
     "text": [
      "134.71909499805756\n"
     ]
    }
   ],
   "source": [
    "regr=LinearRegression()\n",
    "regr.fit(X1,Y)\n",
    "score_SCF_X1=regr.score(X1,Y)\n",
    "prediction_SCF_X1=regr.predict(np.array(X1))\n",
    "prediction_SCF_X1=[prediction_SCF_X1[i][0] for i in range(len(X1))]\n",
    "#print(prediction_SCF_X1)\n",
    "\n",
    "y_test=regr.predict(np.array([[60]]))\n",
    "print(y_test[0][0])\n"
   ]
  },
  {
   "cell_type": "code",
   "execution_count": 125,
   "metadata": {},
   "outputs": [],
   "source": [
    "regr=LinearRegression()\n",
    "regr.fit(X2,Y)\n",
    "score_SCF_X2=regr.score(X2,Y)\n",
    "prediction_SCF_X2=regr.predict(np.array(X2))\n",
    "prediction_SCF_X2=[prediction_SCF_X2[i][0] for i in range(len(X2))]\n",
    "#print(prediction_SCF_X2)"
   ]
  },
  {
   "cell_type": "code",
   "execution_count": 128,
   "metadata": {},
   "outputs": [],
   "source": [
    "regr=LinearRegression()\n",
    "regr.fit(X3,Y)\n",
    "score_SCF_X3=regr.score(X3,Y)\n",
    "prediction_SCF_X3=regr.predict(np.array(X3))\n",
    "prediction_SCF_X3=[prediction_SCF_X3[i][0] for i in range(len(X3))]\n",
    "#print(prediction_SCF_X3)"
   ]
  },
  {
   "cell_type": "markdown",
   "metadata": {},
   "source": [
    "<b>MLE REGRESSION MODEL</b>"
   ]
  },
  {
   "cell_type": "code",
   "execution_count": 84,
   "metadata": {},
   "outputs": [],
   "source": [
    "def calcLogLikelihood(guess,true,n):\n",
    "    error=true-guess\n",
    "    sigma=np.std(error)\n",
    "    f=((1.0/(2.0*math.pi*(sigma**2)))**(n/2))* \\\n",
    "        np.exp(-1*((np.dot(error.T,error))/(2*sigma*sigma)))\n",
    "    return np.log(f)"
   ]
  },
  {
   "cell_type": "code",
   "execution_count": 81,
   "metadata": {},
   "outputs": [],
   "source": [
    "def MLE_model1(var):\n",
    "    x,y=np.array(df[\"Age\"]),np.array(df[\"Salary\"])\n",
    "    yguess=np.array([(var[1]*(x[i])+var[0]) for i in range(len(x))])\n",
    "    f=calcLogLikelihood(yguess,y,float(len(yguess)))\n",
    "    return (-1*f)\n",
    "\n",
    "def MLE_model2(var):\n",
    "    x1,x2,y=df[\"Age\"],df[\"Degree\"],df[\"Salary\"]\n",
    "    yguess=[0 for i in range(len(x1))]\n",
    "    yguess=[(var[2]*x2[i]+var[1]*x1[i]+var[0]) for i in range(len(x1))]\n",
    "    f=calcLogLikelihood(yguess,y,float(len(yguess)))\n",
    "    return (-1*f)\n",
    "\n",
    "def MLE_model3(var):\n",
    "    x1,x2,x3,y=df[\"Age\"],df[\"Degree\"],df[\"Gender_ID\"],df[\"Salary\"]\n",
    "    yguess=[0 for i in range(len(x1))]\n",
    "    yguess=[(var[3]*x3[i]+var[2]*x2[i]+var[1]*x1[i]+var[0]) for i in range(len(x1))]\n",
    "    f=calcLogLikelihood(yguess,y,float(len(yguess)))\n",
    "    return (-1*f)"
   ]
  },
  {
   "cell_type": "code",
   "execution_count": 129,
   "metadata": {},
   "outputs": [
    {
     "name": "stdout",
     "output_type": "stream",
     "text": [
      "[84.72735540592757, 107.64024754669248, 63.89745345977764, 151.3830416336073, 78.47838482208259]\n"
     ]
    }
   ],
   "source": [
    "from scipy.optimize import minimize\n",
    "nvar=2\n",
    "var=np.zeros(nvar)\n",
    "var[0]=15\n",
    "var[1]=2\n",
    "\n",
    "res1=minimize(MLE_model1,var,method=\"BFGS\",options={\"disp\":False})\n",
    "#print(res1)\n",
    "theta_MLE_1=res1.x\n",
    "prediction_MLE_X1=[theta_MLE_1[0]+theta_MLE_1[1]*X1[i][0] for i in range(len(X1))]\n",
    "print(prediction_MLE_X1)\n",
    "#print(prediction_SCF_X1)"
   ]
  },
  {
   "cell_type": "code",
   "execution_count": 134,
   "metadata": {},
   "outputs": [
    {
     "name": "stdout",
     "output_type": "stream",
     "text": [
      "[89.0511074449638, 138.37906318918797, 41.92312501742467, 134.32200431819672, 82.45118749490865]\n"
     ]
    }
   ],
   "source": [
    "from scipy.optimize import minimize\n",
    "nvar=3\n",
    "var=np.zeros(nvar)\n",
    "var[0]=15\n",
    "var[1]=2\n",
    "var[2]=7\n",
    "\n",
    "res2=minimize(MLE_model2,var,method=\"BFGS\",options={\"disp\":False})\n",
    "#print(res2)\n",
    "theta_MLE_2=res2.x\n",
    "prediction_MLE_X2=[theta_MLE_2[0]+theta_MLE_2[1]*X2[i][0] + theta_MLE_2[2]*X2[i][1] for i in range(len(X2))]\n",
    "print(prediction_MLE_X2)\n",
    "#print(prediction_SCF_X2)"
   ]
  },
  {
   "cell_type": "code",
   "execution_count": 147,
   "metadata": {},
   "outputs": [
    {
     "name": "stdout",
     "output_type": "stream",
     "text": [
      "[73.99492030599427, 139.35163292379605, 41.98227386380541, 135.23524912592978, 95.56251751065486]\n"
     ]
    }
   ],
   "source": [
    "from scipy.optimize import minimize\n",
    "nvar=4\n",
    "var=np.zeros(nvar)\n",
    "var[0]=15\n",
    "var[1]=2\n",
    "var[2]=7\n",
    "var[3]=15\n",
    "\n",
    "res3=minimize(MLE_model3,var,method=\"BFGS\",options={\"disp\":False})\n",
    "#print(res3.x)\n",
    "theta_MLE_3=res3.x\n",
    "prediction_MLE_X3=[theta_MLE_3[0]+theta_MLE_3[1]*X3[i][0] + theta_MLE_3[2]*X3[i][1] + theta_MLE_3[3]*X3[i][2] for i in range(len(X3))]\n",
    "print(prediction_MLE_X3)\n",
    "#print(prediction_SCF_X3)\n"
   ]
  },
  {
   "cell_type": "markdown",
   "metadata": {},
   "source": [
    "<b>MAP REGRESSION MODEL</b>"
   ]
  },
  {
   "cell_type": "code",
   "execution_count": 171,
   "metadata": {},
   "outputs": [],
   "source": [
    "\n",
    "def MAP_model1(var):\n",
    "    n=len(var)\n",
    "    x,y=np.array(df[\"Age\"]),np.array(df[\"Salary\"])\n",
    "    yguess=np.array([(var[1]*(x[i])+var[0]) for i in range(len(x))])\n",
    "    cov_mat=np.identity(n,dtype=int)*200\n",
    "    var_dist=multivariate_normal.pdf(var,[0]*n,cov_mat)\n",
    "    f=calcLogLikelihood(yguess,y,float(len(yguess)))+var_dist\n",
    "    return (-1*f)\n",
    "\n",
    "def MAP_model2(var):\n",
    "    n=len(var)\n",
    "    x1,x2,y=df[\"Age\"],df[\"Degree\"],df[\"Salary\"]\n",
    "    yguess=[0 for i in range(len(x1))]\n",
    "    yguess=[(var[2]*x2[i]+var[1]*x1[i]+var[0]) for i in range(len(x1))]\n",
    "    cov_mat=np.identity(n,dtype=int)*4\n",
    "    var_dist=multivariate_normal.pdf(var,[0]*n,cov_mat)\n",
    "    f=calcLogLikelihood(yguess,y,float(len(yguess)))+var_dist\n",
    "    return (-1*f)\n",
    "\n",
    "def MAP_model3(var):\n",
    "    n=len(var)\n",
    "    x1,x2,x3,y=df[\"Age\"],df[\"Degree\"],df[\"Gender_ID\"],df[\"Salary\"]\n",
    "    yguess=[0 for i in range(len(x1))]\n",
    "    yguess=[(var[3]*x3[i]+var[2]*x2[i]+var[1]*x1[i]+var[0]) for i in range(len(x1))]\n",
    "    cov_mat=np.identity(n,dtype=int)*4\n",
    "    var_dist=multivariate_normal.pdf(var,[0]*n,cov_mat)\n",
    "    f=calcLogLikelihood(yguess,y,float(len(yguess)))+var_dist\n",
    "    return (-1*f)"
   ]
  },
  {
   "cell_type": "code",
   "execution_count": 172,
   "metadata": {},
   "outputs": [
    {
     "name": "stdout",
     "output_type": "stream",
     "text": [
      "[9.70350351 2.0837582 ]\n",
      "[84.71879885930943, 107.64013910633253, 63.881216816561164, 151.3990613961039, 78.46752424648496]\n",
      "[84.72735905084977, 107.64023802665334, 63.897469072846526, 151.38300698046015, 78.4783920574488]\n"
     ]
    }
   ],
   "source": [
    "from scipy.optimize import minimize\n",
    "nvar=2\n",
    "var=np.zeros(nvar)\n",
    "var[0]=15\n",
    "var[1]=2\n",
    "\n",
    "res1=minimize(MAP_model1,var,method=\"BFGS\",options={\"disp\":False})\n",
    "print(res1.x)\n",
    "theta_MAP_1=res1.x\n",
    "prediction_MAP_X1=[theta_MAP_1[0]+theta_MAP_1[1]*X1[i][0] for i in range(len(X1))]\n",
    "print(prediction_MAP_X1)\n",
    "#print(prediction_SCF_X1)"
   ]
  },
  {
   "cell_type": "code",
   "execution_count": 177,
   "metadata": {},
   "outputs": [
    {
     "name": "stdout",
     "output_type": "stream",
     "text": [
      "[89.05112770653797, 138.37905712481768, 41.923169748345, 134.32197107198905, 82.45121332627767]\n"
     ]
    }
   ],
   "source": [
    "from scipy.optimize import minimize\n",
    "nvar=3\n",
    "var=np.zeros(nvar)\n",
    "var[0]=15\n",
    "var[1]=2\n",
    "var[2]=7\n",
    "\n",
    "res2=minimize(MAP_model2,var,method=\"BFGS\",options={\"disp\":False})\n",
    "#print(res2)\n",
    "theta_MAP_2=res2.x\n",
    "prediction_MAP_X2=[theta_MAP_2[0]+theta_MAP_2[1]*X2[i][0] + theta_MAP_2[2]*X2[i][1] for i in range(len(X2))]\n",
    "print(prediction_MAP_X2)\n",
    "#print(prediction_SCF_X2)"
   ]
  },
  {
   "cell_type": "code",
   "execution_count": 176,
   "metadata": {},
   "outputs": [
    {
     "name": "stdout",
     "output_type": "stream",
     "text": [
      "[73.99492030599427, 139.35163292379605, 41.98227386380541, 135.23524912592978, 95.56251751065486]\n"
     ]
    }
   ],
   "source": [
    "from scipy.optimize import minimize\n",
    "nvar=4\n",
    "var=np.zeros(nvar)\n",
    "var[0]=15\n",
    "var[1]=2\n",
    "var[2]=7\n",
    "var[3]=15\n",
    "\n",
    "res3=minimize(MAP_model3,var,method=\"BFGS\",options={\"disp\":False})\n",
    "#print(res3.x)\n",
    "theta_MAP_3=res3.x\n",
    "prediction_MAP_X3=[theta_MAP_3[0]+theta_MAP_3[1]*X3[i][0] + theta_MAP_3[2]*X3[i][1] + theta_MAP_3[3]*X3[i][2] for i in range(len(X3))]\n",
    "print(prediction_MAP_X3)\n",
    "#print(prediction_SCF_X3)\n"
   ]
  },
  {
   "cell_type": "code",
   "execution_count": null,
   "metadata": {},
   "outputs": [],
   "source": []
  }
 ],
 "metadata": {
  "interpreter": {
   "hash": "d9e4803da988dc070712e37fe1ba1df1cb4573f2fe7d9fe88b0c597a7c79a9a8"
  },
  "kernelspec": {
   "display_name": "Python 3.9.7 64-bit",
   "name": "python3"
  },
  "language_info": {
   "codemirror_mode": {
    "name": "ipython",
    "version": 3
   },
   "file_extension": ".py",
   "mimetype": "text/x-python",
   "name": "python",
   "nbconvert_exporter": "python",
   "pygments_lexer": "ipython3",
   "version": "3.9.7"
  },
  "orig_nbformat": 4
 },
 "nbformat": 4,
 "nbformat_minor": 2
}
